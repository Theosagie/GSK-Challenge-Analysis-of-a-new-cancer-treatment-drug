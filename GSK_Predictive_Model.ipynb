{
  "nbformat": 4,
  "nbformat_minor": 0,
  "metadata": {
    "colab": {
      "provenance": [],
      "mount_file_id": "17CvIMaoKvhF8pSu3TdzTnIQq-undo6vq",
      "authorship_tag": "ABX9TyMFhMM3/yR9dLrQBbAG1MR+",
      "include_colab_link": true
    },
    "kernelspec": {
      "name": "python3",
      "display_name": "Python 3"
    },
    "language_info": {
      "name": "python"
    },
    "gpuClass": "standard"
  },
  "cells": [
    {
      "cell_type": "markdown",
      "metadata": {
        "id": "view-in-github",
        "colab_type": "text"
      },
      "source": [
        "<a href=\"https://colab.research.google.com/github/Theosagie/GSK-Challenge-Analysis-of-a-new-cancer-treatment-drug/blob/main/GSK_Predictive_Model.ipynb\" target=\"_parent\"><img src=\"https://colab.research.google.com/assets/colab-badge.svg\" alt=\"Open In Colab\"/></a>"
      ]
    },
    {
      "cell_type": "code",
      "execution_count": 1,
      "metadata": {
        "id": "SgS_HyaBORbd"
      },
      "outputs": [],
      "source": [
        "                                                                \n",
        "import pandas as pd\n",
        "import numpy as np\n",
        "import matplotlib.pyplot as plt\n",
        "%matplotlib inline"
      ]
    },
    {
      "cell_type": "code",
      "source": [
        "import warnings\n",
        "warnings.filterwarnings('ignore')"
      ],
      "metadata": {
        "id": "ji_-X2HUo3iW"
      },
      "execution_count": 2,
      "outputs": []
    },
    {
      "cell_type": "code",
      "source": [
        "from google.colab import drive\n",
        "drive.mount('/content/drive/')"
      ],
      "metadata": {
        "id": "8oUfkoDO3Q1b",
        "colab": {
          "base_uri": "https://localhost:8080/"
        },
        "outputId": "c0ce387d-92d2-4d07-a0e5-c4aeee3d5f4c"
      },
      "execution_count": 4,
      "outputs": [
        {
          "output_type": "stream",
          "name": "stdout",
          "text": [
            "Mounted at /content/drive/\n"
          ]
        }
      ]
    },
    {
      "cell_type": "code",
      "source": [
        "fileName = '/content/drive/MyDrive/gsk_excel.xlsx'"
      ],
      "metadata": {
        "id": "iWFXI8D43Q6a"
      },
      "execution_count": 5,
      "outputs": []
    },
    {
      "cell_type": "code",
      "source": [
        "df= pd.read_excel(fileName)"
      ],
      "metadata": {
        "id": "KAf0aXLBxFcF"
      },
      "execution_count": 6,
      "outputs": []
    },
    {
      "cell_type": "code",
      "source": [
        "df.head()"
      ],
      "metadata": {
        "colab": {
          "base_uri": "https://localhost:8080/",
          "height": 206
        },
        "id": "sRQ-6RJ2o3q0",
        "outputId": "15bc2ac9-41f5-434d-efbc-628cc365215a"
      },
      "execution_count": 7,
      "outputs": [
        {
          "output_type": "execute_result",
          "data": {
            "text/plain": [
              "  participant_id  age     sex  weight  height  trt_grp        BMI  \\\n",
              "0       SUBJ_001   46  Female   84.66    1.59     DRUG  33.487599   \n",
              "1       SUBJ_002   47  Female   71.21    1.64     DRUG  26.476056   \n",
              "2       SUBJ_003   48  Female   69.85    1.73  CONTROL  23.338568   \n",
              "3       SUBJ_004   59  Female   62.94    1.50     DRUG  27.973333   \n",
              "4       SUBJ_005   59  Female  113.91    1.63  CONTROL  42.873273   \n",
              "\n",
              "   protein_concentration RESPONSE  \n",
              "0                  148.0        N  \n",
              "1                   85.0        Y  \n",
              "2                  183.0        N  \n",
              "3                   89.0        Y  \n",
              "4                  137.0        N  "
            ],
            "text/html": [
              "\n",
              "  <div id=\"df-2eadff1a-0452-4bf9-879a-19ed9d550da8\">\n",
              "    <div class=\"colab-df-container\">\n",
              "      <div>\n",
              "<style scoped>\n",
              "    .dataframe tbody tr th:only-of-type {\n",
              "        vertical-align: middle;\n",
              "    }\n",
              "\n",
              "    .dataframe tbody tr th {\n",
              "        vertical-align: top;\n",
              "    }\n",
              "\n",
              "    .dataframe thead th {\n",
              "        text-align: right;\n",
              "    }\n",
              "</style>\n",
              "<table border=\"1\" class=\"dataframe\">\n",
              "  <thead>\n",
              "    <tr style=\"text-align: right;\">\n",
              "      <th></th>\n",
              "      <th>participant_id</th>\n",
              "      <th>age</th>\n",
              "      <th>sex</th>\n",
              "      <th>weight</th>\n",
              "      <th>height</th>\n",
              "      <th>trt_grp</th>\n",
              "      <th>BMI</th>\n",
              "      <th>protein_concentration</th>\n",
              "      <th>RESPONSE</th>\n",
              "    </tr>\n",
              "  </thead>\n",
              "  <tbody>\n",
              "    <tr>\n",
              "      <th>0</th>\n",
              "      <td>SUBJ_001</td>\n",
              "      <td>46</td>\n",
              "      <td>Female</td>\n",
              "      <td>84.66</td>\n",
              "      <td>1.59</td>\n",
              "      <td>DRUG</td>\n",
              "      <td>33.487599</td>\n",
              "      <td>148.0</td>\n",
              "      <td>N</td>\n",
              "    </tr>\n",
              "    <tr>\n",
              "      <th>1</th>\n",
              "      <td>SUBJ_002</td>\n",
              "      <td>47</td>\n",
              "      <td>Female</td>\n",
              "      <td>71.21</td>\n",
              "      <td>1.64</td>\n",
              "      <td>DRUG</td>\n",
              "      <td>26.476056</td>\n",
              "      <td>85.0</td>\n",
              "      <td>Y</td>\n",
              "    </tr>\n",
              "    <tr>\n",
              "      <th>2</th>\n",
              "      <td>SUBJ_003</td>\n",
              "      <td>48</td>\n",
              "      <td>Female</td>\n",
              "      <td>69.85</td>\n",
              "      <td>1.73</td>\n",
              "      <td>CONTROL</td>\n",
              "      <td>23.338568</td>\n",
              "      <td>183.0</td>\n",
              "      <td>N</td>\n",
              "    </tr>\n",
              "    <tr>\n",
              "      <th>3</th>\n",
              "      <td>SUBJ_004</td>\n",
              "      <td>59</td>\n",
              "      <td>Female</td>\n",
              "      <td>62.94</td>\n",
              "      <td>1.50</td>\n",
              "      <td>DRUG</td>\n",
              "      <td>27.973333</td>\n",
              "      <td>89.0</td>\n",
              "      <td>Y</td>\n",
              "    </tr>\n",
              "    <tr>\n",
              "      <th>4</th>\n",
              "      <td>SUBJ_005</td>\n",
              "      <td>59</td>\n",
              "      <td>Female</td>\n",
              "      <td>113.91</td>\n",
              "      <td>1.63</td>\n",
              "      <td>CONTROL</td>\n",
              "      <td>42.873273</td>\n",
              "      <td>137.0</td>\n",
              "      <td>N</td>\n",
              "    </tr>\n",
              "  </tbody>\n",
              "</table>\n",
              "</div>\n",
              "      <button class=\"colab-df-convert\" onclick=\"convertToInteractive('df-2eadff1a-0452-4bf9-879a-19ed9d550da8')\"\n",
              "              title=\"Convert this dataframe to an interactive table.\"\n",
              "              style=\"display:none;\">\n",
              "        \n",
              "  <svg xmlns=\"http://www.w3.org/2000/svg\" height=\"24px\"viewBox=\"0 0 24 24\"\n",
              "       width=\"24px\">\n",
              "    <path d=\"M0 0h24v24H0V0z\" fill=\"none\"/>\n",
              "    <path d=\"M18.56 5.44l.94 2.06.94-2.06 2.06-.94-2.06-.94-.94-2.06-.94 2.06-2.06.94zm-11 1L8.5 8.5l.94-2.06 2.06-.94-2.06-.94L8.5 2.5l-.94 2.06-2.06.94zm10 10l.94 2.06.94-2.06 2.06-.94-2.06-.94-.94-2.06-.94 2.06-2.06.94z\"/><path d=\"M17.41 7.96l-1.37-1.37c-.4-.4-.92-.59-1.43-.59-.52 0-1.04.2-1.43.59L10.3 9.45l-7.72 7.72c-.78.78-.78 2.05 0 2.83L4 21.41c.39.39.9.59 1.41.59.51 0 1.02-.2 1.41-.59l7.78-7.78 2.81-2.81c.8-.78.8-2.07 0-2.86zM5.41 20L4 18.59l7.72-7.72 1.47 1.35L5.41 20z\"/>\n",
              "  </svg>\n",
              "      </button>\n",
              "      \n",
              "  <style>\n",
              "    .colab-df-container {\n",
              "      display:flex;\n",
              "      flex-wrap:wrap;\n",
              "      gap: 12px;\n",
              "    }\n",
              "\n",
              "    .colab-df-convert {\n",
              "      background-color: #E8F0FE;\n",
              "      border: none;\n",
              "      border-radius: 50%;\n",
              "      cursor: pointer;\n",
              "      display: none;\n",
              "      fill: #1967D2;\n",
              "      height: 32px;\n",
              "      padding: 0 0 0 0;\n",
              "      width: 32px;\n",
              "    }\n",
              "\n",
              "    .colab-df-convert:hover {\n",
              "      background-color: #E2EBFA;\n",
              "      box-shadow: 0px 1px 2px rgba(60, 64, 67, 0.3), 0px 1px 3px 1px rgba(60, 64, 67, 0.15);\n",
              "      fill: #174EA6;\n",
              "    }\n",
              "\n",
              "    [theme=dark] .colab-df-convert {\n",
              "      background-color: #3B4455;\n",
              "      fill: #D2E3FC;\n",
              "    }\n",
              "\n",
              "    [theme=dark] .colab-df-convert:hover {\n",
              "      background-color: #434B5C;\n",
              "      box-shadow: 0px 1px 3px 1px rgba(0, 0, 0, 0.15);\n",
              "      filter: drop-shadow(0px 1px 2px rgba(0, 0, 0, 0.3));\n",
              "      fill: #FFFFFF;\n",
              "    }\n",
              "  </style>\n",
              "\n",
              "      <script>\n",
              "        const buttonEl =\n",
              "          document.querySelector('#df-2eadff1a-0452-4bf9-879a-19ed9d550da8 button.colab-df-convert');\n",
              "        buttonEl.style.display =\n",
              "          google.colab.kernel.accessAllowed ? 'block' : 'none';\n",
              "\n",
              "        async function convertToInteractive(key) {\n",
              "          const element = document.querySelector('#df-2eadff1a-0452-4bf9-879a-19ed9d550da8');\n",
              "          const dataTable =\n",
              "            await google.colab.kernel.invokeFunction('convertToInteractive',\n",
              "                                                     [key], {});\n",
              "          if (!dataTable) return;\n",
              "\n",
              "          const docLinkHtml = 'Like what you see? Visit the ' +\n",
              "            '<a target=\"_blank\" href=https://colab.research.google.com/notebooks/data_table.ipynb>data table notebook</a>'\n",
              "            + ' to learn more about interactive tables.';\n",
              "          element.innerHTML = '';\n",
              "          dataTable['output_type'] = 'display_data';\n",
              "          await google.colab.output.renderOutput(dataTable, element);\n",
              "          const docLink = document.createElement('div');\n",
              "          docLink.innerHTML = docLinkHtml;\n",
              "          element.appendChild(docLink);\n",
              "        }\n",
              "      </script>\n",
              "    </div>\n",
              "  </div>\n",
              "  "
            ]
          },
          "metadata": {},
          "execution_count": 7
        }
      ]
    },
    {
      "cell_type": "code",
      "source": [
        "df.dtypes"
      ],
      "metadata": {
        "colab": {
          "base_uri": "https://localhost:8080/"
        },
        "id": "5njn6LSGsO64",
        "outputId": "5de0f031-ca0f-43da-8c17-2f80ce8b2b23"
      },
      "execution_count": 8,
      "outputs": [
        {
          "output_type": "execute_result",
          "data": {
            "text/plain": [
              "participant_id            object\n",
              "age                        int64\n",
              "sex                       object\n",
              "weight                   float64\n",
              "height                   float64\n",
              "trt_grp                   object\n",
              "BMI                      float64\n",
              "protein_concentration    float64\n",
              "RESPONSE                  object\n",
              "dtype: object"
            ]
          },
          "metadata": {},
          "execution_count": 8
        }
      ]
    },
    {
      "cell_type": "code",
      "source": [],
      "metadata": {
        "id": "tX-fqCXDsO4V"
      },
      "execution_count": null,
      "outputs": []
    },
    {
      "cell_type": "code",
      "source": [
        "df1=df"
      ],
      "metadata": {
        "id": "DMNPFSISsgXV"
      },
      "execution_count": 9,
      "outputs": []
    },
    {
      "cell_type": "code",
      "source": [
        "# data transformation to build the model\n",
        "# this function takes a dataframe an loops through it to print columns of type object\n",
        "def print_unique_col_values(df):\n",
        "  for column in df:\n",
        "    if df[column].dtypes =='object':\n",
        "      print(f'{column}: {df[column].unique()}')"
      ],
      "metadata": {
        "id": "t5L3U6R2sgUh"
      },
      "execution_count": 10,
      "outputs": []
    },
    {
      "cell_type": "code",
      "source": [
        "#Removing participant_id\n",
        "df1 = df1.drop('participant_id', axis=1)"
      ],
      "metadata": {
        "id": "avqP78YHtg6u"
      },
      "execution_count": 11,
      "outputs": []
    },
    {
      "cell_type": "code",
      "source": [
        "print_unique_col_values(df1)"
      ],
      "metadata": {
        "colab": {
          "base_uri": "https://localhost:8080/"
        },
        "id": "MhPa7dUisgSU",
        "outputId": "fc67ac8e-f8af-44fa-d3c9-96860e366ebf"
      },
      "execution_count": 12,
      "outputs": [
        {
          "output_type": "stream",
          "name": "stdout",
          "text": [
            "sex: ['Female' 'Male']\n",
            "trt_grp: ['DRUG' 'CONTROL']\n",
            "RESPONSE: ['N' 'Y']\n"
          ]
        }
      ]
    },
    {
      "cell_type": "code",
      "source": [
        "#Extracting record for only miraculon-B\n",
        "\n",
        "miraculonB_df = df1[df1['trt_grp']=='DRUG']\n",
        "miraculonB_df\n"
      ],
      "metadata": {
        "colab": {
          "base_uri": "https://localhost:8080/",
          "height": 424
        },
        "id": "iJ_Cl9IRsgPj",
        "outputId": "81350ce7-50e5-4a87-95ad-35298d2252fe"
      },
      "execution_count": 13,
      "outputs": [
        {
          "output_type": "execute_result",
          "data": {
            "text/plain": [
              "     age     sex  weight  height trt_grp        BMI  protein_concentration  \\\n",
              "0     46  Female   84.66    1.59    DRUG  33.487599                  148.0   \n",
              "1     47  Female   71.21    1.64    DRUG  26.476056                   85.0   \n",
              "3     59  Female   62.94    1.50    DRUG  27.973333                   89.0   \n",
              "7     57    Male   93.50    1.63    DRUG  35.191388                  115.0   \n",
              "8     72    Male   85.57    1.68    DRUG  30.318169                  197.0   \n",
              "..   ...     ...     ...     ...     ...        ...                    ...   \n",
              "762   70  Female   62.21    1.66    DRUG  22.575846                   89.0   \n",
              "764   65    Male  112.86    1.76    DRUG  36.434659                  122.0   \n",
              "765   60    Male   81.03    1.77    DRUG  25.864215                  121.0   \n",
              "766   53    Male   88.67    1.72    DRUG  29.972282                  126.0   \n",
              "767   68  Female   80.29    1.63    DRUG  30.219429                   93.0   \n",
              "\n",
              "    RESPONSE  \n",
              "0          N  \n",
              "1          Y  \n",
              "3          Y  \n",
              "7          N  \n",
              "8          N  \n",
              "..       ...  \n",
              "762        Y  \n",
              "764        N  \n",
              "765        N  \n",
              "766        Y  \n",
              "767        Y  \n",
              "\n",
              "[383 rows x 8 columns]"
            ],
            "text/html": [
              "\n",
              "  <div id=\"df-145be626-9c1c-4c6f-baed-f6fc53ee5579\">\n",
              "    <div class=\"colab-df-container\">\n",
              "      <div>\n",
              "<style scoped>\n",
              "    .dataframe tbody tr th:only-of-type {\n",
              "        vertical-align: middle;\n",
              "    }\n",
              "\n",
              "    .dataframe tbody tr th {\n",
              "        vertical-align: top;\n",
              "    }\n",
              "\n",
              "    .dataframe thead th {\n",
              "        text-align: right;\n",
              "    }\n",
              "</style>\n",
              "<table border=\"1\" class=\"dataframe\">\n",
              "  <thead>\n",
              "    <tr style=\"text-align: right;\">\n",
              "      <th></th>\n",
              "      <th>age</th>\n",
              "      <th>sex</th>\n",
              "      <th>weight</th>\n",
              "      <th>height</th>\n",
              "      <th>trt_grp</th>\n",
              "      <th>BMI</th>\n",
              "      <th>protein_concentration</th>\n",
              "      <th>RESPONSE</th>\n",
              "    </tr>\n",
              "  </thead>\n",
              "  <tbody>\n",
              "    <tr>\n",
              "      <th>0</th>\n",
              "      <td>46</td>\n",
              "      <td>Female</td>\n",
              "      <td>84.66</td>\n",
              "      <td>1.59</td>\n",
              "      <td>DRUG</td>\n",
              "      <td>33.487599</td>\n",
              "      <td>148.0</td>\n",
              "      <td>N</td>\n",
              "    </tr>\n",
              "    <tr>\n",
              "      <th>1</th>\n",
              "      <td>47</td>\n",
              "      <td>Female</td>\n",
              "      <td>71.21</td>\n",
              "      <td>1.64</td>\n",
              "      <td>DRUG</td>\n",
              "      <td>26.476056</td>\n",
              "      <td>85.0</td>\n",
              "      <td>Y</td>\n",
              "    </tr>\n",
              "    <tr>\n",
              "      <th>3</th>\n",
              "      <td>59</td>\n",
              "      <td>Female</td>\n",
              "      <td>62.94</td>\n",
              "      <td>1.50</td>\n",
              "      <td>DRUG</td>\n",
              "      <td>27.973333</td>\n",
              "      <td>89.0</td>\n",
              "      <td>Y</td>\n",
              "    </tr>\n",
              "    <tr>\n",
              "      <th>7</th>\n",
              "      <td>57</td>\n",
              "      <td>Male</td>\n",
              "      <td>93.50</td>\n",
              "      <td>1.63</td>\n",
              "      <td>DRUG</td>\n",
              "      <td>35.191388</td>\n",
              "      <td>115.0</td>\n",
              "      <td>N</td>\n",
              "    </tr>\n",
              "    <tr>\n",
              "      <th>8</th>\n",
              "      <td>72</td>\n",
              "      <td>Male</td>\n",
              "      <td>85.57</td>\n",
              "      <td>1.68</td>\n",
              "      <td>DRUG</td>\n",
              "      <td>30.318169</td>\n",
              "      <td>197.0</td>\n",
              "      <td>N</td>\n",
              "    </tr>\n",
              "    <tr>\n",
              "      <th>...</th>\n",
              "      <td>...</td>\n",
              "      <td>...</td>\n",
              "      <td>...</td>\n",
              "      <td>...</td>\n",
              "      <td>...</td>\n",
              "      <td>...</td>\n",
              "      <td>...</td>\n",
              "      <td>...</td>\n",
              "    </tr>\n",
              "    <tr>\n",
              "      <th>762</th>\n",
              "      <td>70</td>\n",
              "      <td>Female</td>\n",
              "      <td>62.21</td>\n",
              "      <td>1.66</td>\n",
              "      <td>DRUG</td>\n",
              "      <td>22.575846</td>\n",
              "      <td>89.0</td>\n",
              "      <td>Y</td>\n",
              "    </tr>\n",
              "    <tr>\n",
              "      <th>764</th>\n",
              "      <td>65</td>\n",
              "      <td>Male</td>\n",
              "      <td>112.86</td>\n",
              "      <td>1.76</td>\n",
              "      <td>DRUG</td>\n",
              "      <td>36.434659</td>\n",
              "      <td>122.0</td>\n",
              "      <td>N</td>\n",
              "    </tr>\n",
              "    <tr>\n",
              "      <th>765</th>\n",
              "      <td>60</td>\n",
              "      <td>Male</td>\n",
              "      <td>81.03</td>\n",
              "      <td>1.77</td>\n",
              "      <td>DRUG</td>\n",
              "      <td>25.864215</td>\n",
              "      <td>121.0</td>\n",
              "      <td>N</td>\n",
              "    </tr>\n",
              "    <tr>\n",
              "      <th>766</th>\n",
              "      <td>53</td>\n",
              "      <td>Male</td>\n",
              "      <td>88.67</td>\n",
              "      <td>1.72</td>\n",
              "      <td>DRUG</td>\n",
              "      <td>29.972282</td>\n",
              "      <td>126.0</td>\n",
              "      <td>Y</td>\n",
              "    </tr>\n",
              "    <tr>\n",
              "      <th>767</th>\n",
              "      <td>68</td>\n",
              "      <td>Female</td>\n",
              "      <td>80.29</td>\n",
              "      <td>1.63</td>\n",
              "      <td>DRUG</td>\n",
              "      <td>30.219429</td>\n",
              "      <td>93.0</td>\n",
              "      <td>Y</td>\n",
              "    </tr>\n",
              "  </tbody>\n",
              "</table>\n",
              "<p>383 rows × 8 columns</p>\n",
              "</div>\n",
              "      <button class=\"colab-df-convert\" onclick=\"convertToInteractive('df-145be626-9c1c-4c6f-baed-f6fc53ee5579')\"\n",
              "              title=\"Convert this dataframe to an interactive table.\"\n",
              "              style=\"display:none;\">\n",
              "        \n",
              "  <svg xmlns=\"http://www.w3.org/2000/svg\" height=\"24px\"viewBox=\"0 0 24 24\"\n",
              "       width=\"24px\">\n",
              "    <path d=\"M0 0h24v24H0V0z\" fill=\"none\"/>\n",
              "    <path d=\"M18.56 5.44l.94 2.06.94-2.06 2.06-.94-2.06-.94-.94-2.06-.94 2.06-2.06.94zm-11 1L8.5 8.5l.94-2.06 2.06-.94-2.06-.94L8.5 2.5l-.94 2.06-2.06.94zm10 10l.94 2.06.94-2.06 2.06-.94-2.06-.94-.94-2.06-.94 2.06-2.06.94z\"/><path d=\"M17.41 7.96l-1.37-1.37c-.4-.4-.92-.59-1.43-.59-.52 0-1.04.2-1.43.59L10.3 9.45l-7.72 7.72c-.78.78-.78 2.05 0 2.83L4 21.41c.39.39.9.59 1.41.59.51 0 1.02-.2 1.41-.59l7.78-7.78 2.81-2.81c.8-.78.8-2.07 0-2.86zM5.41 20L4 18.59l7.72-7.72 1.47 1.35L5.41 20z\"/>\n",
              "  </svg>\n",
              "      </button>\n",
              "      \n",
              "  <style>\n",
              "    .colab-df-container {\n",
              "      display:flex;\n",
              "      flex-wrap:wrap;\n",
              "      gap: 12px;\n",
              "    }\n",
              "\n",
              "    .colab-df-convert {\n",
              "      background-color: #E8F0FE;\n",
              "      border: none;\n",
              "      border-radius: 50%;\n",
              "      cursor: pointer;\n",
              "      display: none;\n",
              "      fill: #1967D2;\n",
              "      height: 32px;\n",
              "      padding: 0 0 0 0;\n",
              "      width: 32px;\n",
              "    }\n",
              "\n",
              "    .colab-df-convert:hover {\n",
              "      background-color: #E2EBFA;\n",
              "      box-shadow: 0px 1px 2px rgba(60, 64, 67, 0.3), 0px 1px 3px 1px rgba(60, 64, 67, 0.15);\n",
              "      fill: #174EA6;\n",
              "    }\n",
              "\n",
              "    [theme=dark] .colab-df-convert {\n",
              "      background-color: #3B4455;\n",
              "      fill: #D2E3FC;\n",
              "    }\n",
              "\n",
              "    [theme=dark] .colab-df-convert:hover {\n",
              "      background-color: #434B5C;\n",
              "      box-shadow: 0px 1px 3px 1px rgba(0, 0, 0, 0.15);\n",
              "      filter: drop-shadow(0px 1px 2px rgba(0, 0, 0, 0.3));\n",
              "      fill: #FFFFFF;\n",
              "    }\n",
              "  </style>\n",
              "\n",
              "      <script>\n",
              "        const buttonEl =\n",
              "          document.querySelector('#df-145be626-9c1c-4c6f-baed-f6fc53ee5579 button.colab-df-convert');\n",
              "        buttonEl.style.display =\n",
              "          google.colab.kernel.accessAllowed ? 'block' : 'none';\n",
              "\n",
              "        async function convertToInteractive(key) {\n",
              "          const element = document.querySelector('#df-145be626-9c1c-4c6f-baed-f6fc53ee5579');\n",
              "          const dataTable =\n",
              "            await google.colab.kernel.invokeFunction('convertToInteractive',\n",
              "                                                     [key], {});\n",
              "          if (!dataTable) return;\n",
              "\n",
              "          const docLinkHtml = 'Like what you see? Visit the ' +\n",
              "            '<a target=\"_blank\" href=https://colab.research.google.com/notebooks/data_table.ipynb>data table notebook</a>'\n",
              "            + ' to learn more about interactive tables.';\n",
              "          element.innerHTML = '';\n",
              "          dataTable['output_type'] = 'display_data';\n",
              "          await google.colab.output.renderOutput(dataTable, element);\n",
              "          const docLink = document.createElement('div');\n",
              "          docLink.innerHTML = docLinkHtml;\n",
              "          element.appendChild(docLink);\n",
              "        }\n",
              "      </script>\n",
              "    </div>\n",
              "  </div>\n",
              "  "
            ]
          },
          "metadata": {},
          "execution_count": 13
        }
      ]
    },
    {
      "cell_type": "code",
      "source": [
        "# Dropping column containing sngle value\n",
        "miraculonB_df=miraculonB_df.drop('trt_grp', axis=1)\n"
      ],
      "metadata": {
        "id": "4YMGtBKlsgNQ"
      },
      "execution_count": 14,
      "outputs": []
    },
    {
      "cell_type": "code",
      "source": [
        "miraculonB_df"
      ],
      "metadata": {
        "colab": {
          "base_uri": "https://localhost:8080/",
          "height": 424
        },
        "id": "GBYvrrmwsgKn",
        "outputId": "ead091bf-29dc-41fe-8afd-25c8070b0f18"
      },
      "execution_count": 15,
      "outputs": [
        {
          "output_type": "execute_result",
          "data": {
            "text/plain": [
              "     age     sex  weight  height        BMI  protein_concentration RESPONSE\n",
              "0     46  Female   84.66    1.59  33.487599                  148.0        N\n",
              "1     47  Female   71.21    1.64  26.476056                   85.0        Y\n",
              "3     59  Female   62.94    1.50  27.973333                   89.0        Y\n",
              "7     57    Male   93.50    1.63  35.191388                  115.0        N\n",
              "8     72    Male   85.57    1.68  30.318169                  197.0        N\n",
              "..   ...     ...     ...     ...        ...                    ...      ...\n",
              "762   70  Female   62.21    1.66  22.575846                   89.0        Y\n",
              "764   65    Male  112.86    1.76  36.434659                  122.0        N\n",
              "765   60    Male   81.03    1.77  25.864215                  121.0        N\n",
              "766   53    Male   88.67    1.72  29.972282                  126.0        Y\n",
              "767   68  Female   80.29    1.63  30.219429                   93.0        Y\n",
              "\n",
              "[383 rows x 7 columns]"
            ],
            "text/html": [
              "\n",
              "  <div id=\"df-fd0cfa6c-d378-457a-9404-feb98ed03066\">\n",
              "    <div class=\"colab-df-container\">\n",
              "      <div>\n",
              "<style scoped>\n",
              "    .dataframe tbody tr th:only-of-type {\n",
              "        vertical-align: middle;\n",
              "    }\n",
              "\n",
              "    .dataframe tbody tr th {\n",
              "        vertical-align: top;\n",
              "    }\n",
              "\n",
              "    .dataframe thead th {\n",
              "        text-align: right;\n",
              "    }\n",
              "</style>\n",
              "<table border=\"1\" class=\"dataframe\">\n",
              "  <thead>\n",
              "    <tr style=\"text-align: right;\">\n",
              "      <th></th>\n",
              "      <th>age</th>\n",
              "      <th>sex</th>\n",
              "      <th>weight</th>\n",
              "      <th>height</th>\n",
              "      <th>BMI</th>\n",
              "      <th>protein_concentration</th>\n",
              "      <th>RESPONSE</th>\n",
              "    </tr>\n",
              "  </thead>\n",
              "  <tbody>\n",
              "    <tr>\n",
              "      <th>0</th>\n",
              "      <td>46</td>\n",
              "      <td>Female</td>\n",
              "      <td>84.66</td>\n",
              "      <td>1.59</td>\n",
              "      <td>33.487599</td>\n",
              "      <td>148.0</td>\n",
              "      <td>N</td>\n",
              "    </tr>\n",
              "    <tr>\n",
              "      <th>1</th>\n",
              "      <td>47</td>\n",
              "      <td>Female</td>\n",
              "      <td>71.21</td>\n",
              "      <td>1.64</td>\n",
              "      <td>26.476056</td>\n",
              "      <td>85.0</td>\n",
              "      <td>Y</td>\n",
              "    </tr>\n",
              "    <tr>\n",
              "      <th>3</th>\n",
              "      <td>59</td>\n",
              "      <td>Female</td>\n",
              "      <td>62.94</td>\n",
              "      <td>1.50</td>\n",
              "      <td>27.973333</td>\n",
              "      <td>89.0</td>\n",
              "      <td>Y</td>\n",
              "    </tr>\n",
              "    <tr>\n",
              "      <th>7</th>\n",
              "      <td>57</td>\n",
              "      <td>Male</td>\n",
              "      <td>93.50</td>\n",
              "      <td>1.63</td>\n",
              "      <td>35.191388</td>\n",
              "      <td>115.0</td>\n",
              "      <td>N</td>\n",
              "    </tr>\n",
              "    <tr>\n",
              "      <th>8</th>\n",
              "      <td>72</td>\n",
              "      <td>Male</td>\n",
              "      <td>85.57</td>\n",
              "      <td>1.68</td>\n",
              "      <td>30.318169</td>\n",
              "      <td>197.0</td>\n",
              "      <td>N</td>\n",
              "    </tr>\n",
              "    <tr>\n",
              "      <th>...</th>\n",
              "      <td>...</td>\n",
              "      <td>...</td>\n",
              "      <td>...</td>\n",
              "      <td>...</td>\n",
              "      <td>...</td>\n",
              "      <td>...</td>\n",
              "      <td>...</td>\n",
              "    </tr>\n",
              "    <tr>\n",
              "      <th>762</th>\n",
              "      <td>70</td>\n",
              "      <td>Female</td>\n",
              "      <td>62.21</td>\n",
              "      <td>1.66</td>\n",
              "      <td>22.575846</td>\n",
              "      <td>89.0</td>\n",
              "      <td>Y</td>\n",
              "    </tr>\n",
              "    <tr>\n",
              "      <th>764</th>\n",
              "      <td>65</td>\n",
              "      <td>Male</td>\n",
              "      <td>112.86</td>\n",
              "      <td>1.76</td>\n",
              "      <td>36.434659</td>\n",
              "      <td>122.0</td>\n",
              "      <td>N</td>\n",
              "    </tr>\n",
              "    <tr>\n",
              "      <th>765</th>\n",
              "      <td>60</td>\n",
              "      <td>Male</td>\n",
              "      <td>81.03</td>\n",
              "      <td>1.77</td>\n",
              "      <td>25.864215</td>\n",
              "      <td>121.0</td>\n",
              "      <td>N</td>\n",
              "    </tr>\n",
              "    <tr>\n",
              "      <th>766</th>\n",
              "      <td>53</td>\n",
              "      <td>Male</td>\n",
              "      <td>88.67</td>\n",
              "      <td>1.72</td>\n",
              "      <td>29.972282</td>\n",
              "      <td>126.0</td>\n",
              "      <td>Y</td>\n",
              "    </tr>\n",
              "    <tr>\n",
              "      <th>767</th>\n",
              "      <td>68</td>\n",
              "      <td>Female</td>\n",
              "      <td>80.29</td>\n",
              "      <td>1.63</td>\n",
              "      <td>30.219429</td>\n",
              "      <td>93.0</td>\n",
              "      <td>Y</td>\n",
              "    </tr>\n",
              "  </tbody>\n",
              "</table>\n",
              "<p>383 rows × 7 columns</p>\n",
              "</div>\n",
              "      <button class=\"colab-df-convert\" onclick=\"convertToInteractive('df-fd0cfa6c-d378-457a-9404-feb98ed03066')\"\n",
              "              title=\"Convert this dataframe to an interactive table.\"\n",
              "              style=\"display:none;\">\n",
              "        \n",
              "  <svg xmlns=\"http://www.w3.org/2000/svg\" height=\"24px\"viewBox=\"0 0 24 24\"\n",
              "       width=\"24px\">\n",
              "    <path d=\"M0 0h24v24H0V0z\" fill=\"none\"/>\n",
              "    <path d=\"M18.56 5.44l.94 2.06.94-2.06 2.06-.94-2.06-.94-.94-2.06-.94 2.06-2.06.94zm-11 1L8.5 8.5l.94-2.06 2.06-.94-2.06-.94L8.5 2.5l-.94 2.06-2.06.94zm10 10l.94 2.06.94-2.06 2.06-.94-2.06-.94-.94-2.06-.94 2.06-2.06.94z\"/><path d=\"M17.41 7.96l-1.37-1.37c-.4-.4-.92-.59-1.43-.59-.52 0-1.04.2-1.43.59L10.3 9.45l-7.72 7.72c-.78.78-.78 2.05 0 2.83L4 21.41c.39.39.9.59 1.41.59.51 0 1.02-.2 1.41-.59l7.78-7.78 2.81-2.81c.8-.78.8-2.07 0-2.86zM5.41 20L4 18.59l7.72-7.72 1.47 1.35L5.41 20z\"/>\n",
              "  </svg>\n",
              "      </button>\n",
              "      \n",
              "  <style>\n",
              "    .colab-df-container {\n",
              "      display:flex;\n",
              "      flex-wrap:wrap;\n",
              "      gap: 12px;\n",
              "    }\n",
              "\n",
              "    .colab-df-convert {\n",
              "      background-color: #E8F0FE;\n",
              "      border: none;\n",
              "      border-radius: 50%;\n",
              "      cursor: pointer;\n",
              "      display: none;\n",
              "      fill: #1967D2;\n",
              "      height: 32px;\n",
              "      padding: 0 0 0 0;\n",
              "      width: 32px;\n",
              "    }\n",
              "\n",
              "    .colab-df-convert:hover {\n",
              "      background-color: #E2EBFA;\n",
              "      box-shadow: 0px 1px 2px rgba(60, 64, 67, 0.3), 0px 1px 3px 1px rgba(60, 64, 67, 0.15);\n",
              "      fill: #174EA6;\n",
              "    }\n",
              "\n",
              "    [theme=dark] .colab-df-convert {\n",
              "      background-color: #3B4455;\n",
              "      fill: #D2E3FC;\n",
              "    }\n",
              "\n",
              "    [theme=dark] .colab-df-convert:hover {\n",
              "      background-color: #434B5C;\n",
              "      box-shadow: 0px 1px 3px 1px rgba(0, 0, 0, 0.15);\n",
              "      filter: drop-shadow(0px 1px 2px rgba(0, 0, 0, 0.3));\n",
              "      fill: #FFFFFF;\n",
              "    }\n",
              "  </style>\n",
              "\n",
              "      <script>\n",
              "        const buttonEl =\n",
              "          document.querySelector('#df-fd0cfa6c-d378-457a-9404-feb98ed03066 button.colab-df-convert');\n",
              "        buttonEl.style.display =\n",
              "          google.colab.kernel.accessAllowed ? 'block' : 'none';\n",
              "\n",
              "        async function convertToInteractive(key) {\n",
              "          const element = document.querySelector('#df-fd0cfa6c-d378-457a-9404-feb98ed03066');\n",
              "          const dataTable =\n",
              "            await google.colab.kernel.invokeFunction('convertToInteractive',\n",
              "                                                     [key], {});\n",
              "          if (!dataTable) return;\n",
              "\n",
              "          const docLinkHtml = 'Like what you see? Visit the ' +\n",
              "            '<a target=\"_blank\" href=https://colab.research.google.com/notebooks/data_table.ipynb>data table notebook</a>'\n",
              "            + ' to learn more about interactive tables.';\n",
              "          element.innerHTML = '';\n",
              "          dataTable['output_type'] = 'display_data';\n",
              "          await google.colab.output.renderOutput(dataTable, element);\n",
              "          const docLink = document.createElement('div');\n",
              "          docLink.innerHTML = docLinkHtml;\n",
              "          element.appendChild(docLink);\n",
              "        }\n",
              "      </script>\n",
              "    </div>\n",
              "  </div>\n",
              "  "
            ]
          },
          "metadata": {},
          "execution_count": 15
        }
      ]
    },
    {
      "cell_type": "code",
      "source": [
        "miraculonB_df.dtypes"
      ],
      "metadata": {
        "colab": {
          "base_uri": "https://localhost:8080/"
        },
        "id": "8OZwhCJ2sgIO",
        "outputId": "85aec898-3a40-4425-bce5-29f869096ca2"
      },
      "execution_count": 17,
      "outputs": [
        {
          "output_type": "execute_result",
          "data": {
            "text/plain": [
              "age                        int64\n",
              "sex                       object\n",
              "weight                   float64\n",
              "height                   float64\n",
              "BMI                      float64\n",
              "protein_concentration    float64\n",
              "RESPONSE                  object\n",
              "dtype: object"
            ]
          },
          "metadata": {},
          "execution_count": 17
        }
      ]
    },
    {
      "cell_type": "code",
      "source": [
        "miraculonB_df['sex'].replace({'Female':1, 'Male':0}, inplace=True)"
      ],
      "metadata": {
        "id": "pErpE9_vsgFk"
      },
      "execution_count": 18,
      "outputs": []
    },
    {
      "cell_type": "code",
      "source": [
        "miraculonB_df"
      ],
      "metadata": {
        "colab": {
          "base_uri": "https://localhost:8080/",
          "height": 424
        },
        "id": "eF-iYKzasgDM",
        "outputId": "4f0bd10a-1247-4ccc-ca24-9ef12bf633ca"
      },
      "execution_count": 19,
      "outputs": [
        {
          "output_type": "execute_result",
          "data": {
            "text/plain": [
              "     age  sex  weight  height        BMI  protein_concentration RESPONSE\n",
              "0     46    1   84.66    1.59  33.487599                  148.0        N\n",
              "1     47    1   71.21    1.64  26.476056                   85.0        Y\n",
              "3     59    1   62.94    1.50  27.973333                   89.0        Y\n",
              "7     57    0   93.50    1.63  35.191388                  115.0        N\n",
              "8     72    0   85.57    1.68  30.318169                  197.0        N\n",
              "..   ...  ...     ...     ...        ...                    ...      ...\n",
              "762   70    1   62.21    1.66  22.575846                   89.0        Y\n",
              "764   65    0  112.86    1.76  36.434659                  122.0        N\n",
              "765   60    0   81.03    1.77  25.864215                  121.0        N\n",
              "766   53    0   88.67    1.72  29.972282                  126.0        Y\n",
              "767   68    1   80.29    1.63  30.219429                   93.0        Y\n",
              "\n",
              "[383 rows x 7 columns]"
            ],
            "text/html": [
              "\n",
              "  <div id=\"df-0bef0ba9-c1ac-49bd-83b9-d75b55cef841\">\n",
              "    <div class=\"colab-df-container\">\n",
              "      <div>\n",
              "<style scoped>\n",
              "    .dataframe tbody tr th:only-of-type {\n",
              "        vertical-align: middle;\n",
              "    }\n",
              "\n",
              "    .dataframe tbody tr th {\n",
              "        vertical-align: top;\n",
              "    }\n",
              "\n",
              "    .dataframe thead th {\n",
              "        text-align: right;\n",
              "    }\n",
              "</style>\n",
              "<table border=\"1\" class=\"dataframe\">\n",
              "  <thead>\n",
              "    <tr style=\"text-align: right;\">\n",
              "      <th></th>\n",
              "      <th>age</th>\n",
              "      <th>sex</th>\n",
              "      <th>weight</th>\n",
              "      <th>height</th>\n",
              "      <th>BMI</th>\n",
              "      <th>protein_concentration</th>\n",
              "      <th>RESPONSE</th>\n",
              "    </tr>\n",
              "  </thead>\n",
              "  <tbody>\n",
              "    <tr>\n",
              "      <th>0</th>\n",
              "      <td>46</td>\n",
              "      <td>1</td>\n",
              "      <td>84.66</td>\n",
              "      <td>1.59</td>\n",
              "      <td>33.487599</td>\n",
              "      <td>148.0</td>\n",
              "      <td>N</td>\n",
              "    </tr>\n",
              "    <tr>\n",
              "      <th>1</th>\n",
              "      <td>47</td>\n",
              "      <td>1</td>\n",
              "      <td>71.21</td>\n",
              "      <td>1.64</td>\n",
              "      <td>26.476056</td>\n",
              "      <td>85.0</td>\n",
              "      <td>Y</td>\n",
              "    </tr>\n",
              "    <tr>\n",
              "      <th>3</th>\n",
              "      <td>59</td>\n",
              "      <td>1</td>\n",
              "      <td>62.94</td>\n",
              "      <td>1.50</td>\n",
              "      <td>27.973333</td>\n",
              "      <td>89.0</td>\n",
              "      <td>Y</td>\n",
              "    </tr>\n",
              "    <tr>\n",
              "      <th>7</th>\n",
              "      <td>57</td>\n",
              "      <td>0</td>\n",
              "      <td>93.50</td>\n",
              "      <td>1.63</td>\n",
              "      <td>35.191388</td>\n",
              "      <td>115.0</td>\n",
              "      <td>N</td>\n",
              "    </tr>\n",
              "    <tr>\n",
              "      <th>8</th>\n",
              "      <td>72</td>\n",
              "      <td>0</td>\n",
              "      <td>85.57</td>\n",
              "      <td>1.68</td>\n",
              "      <td>30.318169</td>\n",
              "      <td>197.0</td>\n",
              "      <td>N</td>\n",
              "    </tr>\n",
              "    <tr>\n",
              "      <th>...</th>\n",
              "      <td>...</td>\n",
              "      <td>...</td>\n",
              "      <td>...</td>\n",
              "      <td>...</td>\n",
              "      <td>...</td>\n",
              "      <td>...</td>\n",
              "      <td>...</td>\n",
              "    </tr>\n",
              "    <tr>\n",
              "      <th>762</th>\n",
              "      <td>70</td>\n",
              "      <td>1</td>\n",
              "      <td>62.21</td>\n",
              "      <td>1.66</td>\n",
              "      <td>22.575846</td>\n",
              "      <td>89.0</td>\n",
              "      <td>Y</td>\n",
              "    </tr>\n",
              "    <tr>\n",
              "      <th>764</th>\n",
              "      <td>65</td>\n",
              "      <td>0</td>\n",
              "      <td>112.86</td>\n",
              "      <td>1.76</td>\n",
              "      <td>36.434659</td>\n",
              "      <td>122.0</td>\n",
              "      <td>N</td>\n",
              "    </tr>\n",
              "    <tr>\n",
              "      <th>765</th>\n",
              "      <td>60</td>\n",
              "      <td>0</td>\n",
              "      <td>81.03</td>\n",
              "      <td>1.77</td>\n",
              "      <td>25.864215</td>\n",
              "      <td>121.0</td>\n",
              "      <td>N</td>\n",
              "    </tr>\n",
              "    <tr>\n",
              "      <th>766</th>\n",
              "      <td>53</td>\n",
              "      <td>0</td>\n",
              "      <td>88.67</td>\n",
              "      <td>1.72</td>\n",
              "      <td>29.972282</td>\n",
              "      <td>126.0</td>\n",
              "      <td>Y</td>\n",
              "    </tr>\n",
              "    <tr>\n",
              "      <th>767</th>\n",
              "      <td>68</td>\n",
              "      <td>1</td>\n",
              "      <td>80.29</td>\n",
              "      <td>1.63</td>\n",
              "      <td>30.219429</td>\n",
              "      <td>93.0</td>\n",
              "      <td>Y</td>\n",
              "    </tr>\n",
              "  </tbody>\n",
              "</table>\n",
              "<p>383 rows × 7 columns</p>\n",
              "</div>\n",
              "      <button class=\"colab-df-convert\" onclick=\"convertToInteractive('df-0bef0ba9-c1ac-49bd-83b9-d75b55cef841')\"\n",
              "              title=\"Convert this dataframe to an interactive table.\"\n",
              "              style=\"display:none;\">\n",
              "        \n",
              "  <svg xmlns=\"http://www.w3.org/2000/svg\" height=\"24px\"viewBox=\"0 0 24 24\"\n",
              "       width=\"24px\">\n",
              "    <path d=\"M0 0h24v24H0V0z\" fill=\"none\"/>\n",
              "    <path d=\"M18.56 5.44l.94 2.06.94-2.06 2.06-.94-2.06-.94-.94-2.06-.94 2.06-2.06.94zm-11 1L8.5 8.5l.94-2.06 2.06-.94-2.06-.94L8.5 2.5l-.94 2.06-2.06.94zm10 10l.94 2.06.94-2.06 2.06-.94-2.06-.94-.94-2.06-.94 2.06-2.06.94z\"/><path d=\"M17.41 7.96l-1.37-1.37c-.4-.4-.92-.59-1.43-.59-.52 0-1.04.2-1.43.59L10.3 9.45l-7.72 7.72c-.78.78-.78 2.05 0 2.83L4 21.41c.39.39.9.59 1.41.59.51 0 1.02-.2 1.41-.59l7.78-7.78 2.81-2.81c.8-.78.8-2.07 0-2.86zM5.41 20L4 18.59l7.72-7.72 1.47 1.35L5.41 20z\"/>\n",
              "  </svg>\n",
              "      </button>\n",
              "      \n",
              "  <style>\n",
              "    .colab-df-container {\n",
              "      display:flex;\n",
              "      flex-wrap:wrap;\n",
              "      gap: 12px;\n",
              "    }\n",
              "\n",
              "    .colab-df-convert {\n",
              "      background-color: #E8F0FE;\n",
              "      border: none;\n",
              "      border-radius: 50%;\n",
              "      cursor: pointer;\n",
              "      display: none;\n",
              "      fill: #1967D2;\n",
              "      height: 32px;\n",
              "      padding: 0 0 0 0;\n",
              "      width: 32px;\n",
              "    }\n",
              "\n",
              "    .colab-df-convert:hover {\n",
              "      background-color: #E2EBFA;\n",
              "      box-shadow: 0px 1px 2px rgba(60, 64, 67, 0.3), 0px 1px 3px 1px rgba(60, 64, 67, 0.15);\n",
              "      fill: #174EA6;\n",
              "    }\n",
              "\n",
              "    [theme=dark] .colab-df-convert {\n",
              "      background-color: #3B4455;\n",
              "      fill: #D2E3FC;\n",
              "    }\n",
              "\n",
              "    [theme=dark] .colab-df-convert:hover {\n",
              "      background-color: #434B5C;\n",
              "      box-shadow: 0px 1px 3px 1px rgba(0, 0, 0, 0.15);\n",
              "      filter: drop-shadow(0px 1px 2px rgba(0, 0, 0, 0.3));\n",
              "      fill: #FFFFFF;\n",
              "    }\n",
              "  </style>\n",
              "\n",
              "      <script>\n",
              "        const buttonEl =\n",
              "          document.querySelector('#df-0bef0ba9-c1ac-49bd-83b9-d75b55cef841 button.colab-df-convert');\n",
              "        buttonEl.style.display =\n",
              "          google.colab.kernel.accessAllowed ? 'block' : 'none';\n",
              "\n",
              "        async function convertToInteractive(key) {\n",
              "          const element = document.querySelector('#df-0bef0ba9-c1ac-49bd-83b9-d75b55cef841');\n",
              "          const dataTable =\n",
              "            await google.colab.kernel.invokeFunction('convertToInteractive',\n",
              "                                                     [key], {});\n",
              "          if (!dataTable) return;\n",
              "\n",
              "          const docLinkHtml = 'Like what you see? Visit the ' +\n",
              "            '<a target=\"_blank\" href=https://colab.research.google.com/notebooks/data_table.ipynb>data table notebook</a>'\n",
              "            + ' to learn more about interactive tables.';\n",
              "          element.innerHTML = '';\n",
              "          dataTable['output_type'] = 'display_data';\n",
              "          await google.colab.output.renderOutput(dataTable, element);\n",
              "          const docLink = document.createElement('div');\n",
              "          docLink.innerHTML = docLinkHtml;\n",
              "          element.appendChild(docLink);\n",
              "        }\n",
              "      </script>\n",
              "    </div>\n",
              "  </div>\n",
              "  "
            ]
          },
          "metadata": {},
          "execution_count": 19
        }
      ]
    },
    {
      "cell_type": "code",
      "source": [
        "miraculonB_df['RESPONSE'].replace({'Y':1, 'N':0}, inplace=True)"
      ],
      "metadata": {
        "id": "iaH8g63SsO11"
      },
      "execution_count": 20,
      "outputs": []
    },
    {
      "cell_type": "code",
      "source": [
        "miraculonB_df.dtypes"
      ],
      "metadata": {
        "colab": {
          "base_uri": "https://localhost:8080/"
        },
        "id": "N5BC6c0Jv4j_",
        "outputId": "4f9bcae6-f3f9-4a18-b1ec-ea97957df223"
      },
      "execution_count": 21,
      "outputs": [
        {
          "output_type": "execute_result",
          "data": {
            "text/plain": [
              "age                        int64\n",
              "sex                        int64\n",
              "weight                   float64\n",
              "height                   float64\n",
              "BMI                      float64\n",
              "protein_concentration    float64\n",
              "RESPONSE                   int64\n",
              "dtype: object"
            ]
          },
          "metadata": {},
          "execution_count": 21
        }
      ]
    },
    {
      "cell_type": "code",
      "source": [
        "miraculonB_df.describe()"
      ],
      "metadata": {
        "colab": {
          "base_uri": "https://localhost:8080/",
          "height": 300
        },
        "id": "-RimTSxiv4he",
        "outputId": "97710f29-1b1d-4cb7-bed8-5722bc32727e"
      },
      "execution_count": 22,
      "outputs": [
        {
          "output_type": "execute_result",
          "data": {
            "text/plain": [
              "              age         sex      weight      height         BMI  \\\n",
              "count  383.000000  383.000000  383.000000  383.000000  383.000000   \n",
              "mean    61.759791    0.488251   90.844100    1.682742   31.992628   \n",
              "std      7.565750    0.500516   22.465539    0.097062    7.161227   \n",
              "min     37.000000    0.000000   46.170000    1.430000   17.975421   \n",
              "25%     57.000000    0.000000   74.340000    1.610000   26.704177   \n",
              "50%     62.000000    0.000000   89.220000    1.680000   31.678201   \n",
              "75%     67.000000    1.000000  104.135000    1.760000   36.318756   \n",
              "max     79.000000    1.000000  160.120000    1.940000   67.515601   \n",
              "\n",
              "       protein_concentration    RESPONSE  \n",
              "count             383.000000  383.000000  \n",
              "mean              122.077669    0.548303  \n",
              "std                30.183344    0.498312  \n",
              "min                56.000000    0.000000  \n",
              "25%                99.500000    0.000000  \n",
              "50%               118.000000    1.000000  \n",
              "75%               141.500000    1.000000  \n",
              "max               199.000000    1.000000  "
            ],
            "text/html": [
              "\n",
              "  <div id=\"df-9473a86b-c6c9-42a8-8366-56066273e4f3\">\n",
              "    <div class=\"colab-df-container\">\n",
              "      <div>\n",
              "<style scoped>\n",
              "    .dataframe tbody tr th:only-of-type {\n",
              "        vertical-align: middle;\n",
              "    }\n",
              "\n",
              "    .dataframe tbody tr th {\n",
              "        vertical-align: top;\n",
              "    }\n",
              "\n",
              "    .dataframe thead th {\n",
              "        text-align: right;\n",
              "    }\n",
              "</style>\n",
              "<table border=\"1\" class=\"dataframe\">\n",
              "  <thead>\n",
              "    <tr style=\"text-align: right;\">\n",
              "      <th></th>\n",
              "      <th>age</th>\n",
              "      <th>sex</th>\n",
              "      <th>weight</th>\n",
              "      <th>height</th>\n",
              "      <th>BMI</th>\n",
              "      <th>protein_concentration</th>\n",
              "      <th>RESPONSE</th>\n",
              "    </tr>\n",
              "  </thead>\n",
              "  <tbody>\n",
              "    <tr>\n",
              "      <th>count</th>\n",
              "      <td>383.000000</td>\n",
              "      <td>383.000000</td>\n",
              "      <td>383.000000</td>\n",
              "      <td>383.000000</td>\n",
              "      <td>383.000000</td>\n",
              "      <td>383.000000</td>\n",
              "      <td>383.000000</td>\n",
              "    </tr>\n",
              "    <tr>\n",
              "      <th>mean</th>\n",
              "      <td>61.759791</td>\n",
              "      <td>0.488251</td>\n",
              "      <td>90.844100</td>\n",
              "      <td>1.682742</td>\n",
              "      <td>31.992628</td>\n",
              "      <td>122.077669</td>\n",
              "      <td>0.548303</td>\n",
              "    </tr>\n",
              "    <tr>\n",
              "      <th>std</th>\n",
              "      <td>7.565750</td>\n",
              "      <td>0.500516</td>\n",
              "      <td>22.465539</td>\n",
              "      <td>0.097062</td>\n",
              "      <td>7.161227</td>\n",
              "      <td>30.183344</td>\n",
              "      <td>0.498312</td>\n",
              "    </tr>\n",
              "    <tr>\n",
              "      <th>min</th>\n",
              "      <td>37.000000</td>\n",
              "      <td>0.000000</td>\n",
              "      <td>46.170000</td>\n",
              "      <td>1.430000</td>\n",
              "      <td>17.975421</td>\n",
              "      <td>56.000000</td>\n",
              "      <td>0.000000</td>\n",
              "    </tr>\n",
              "    <tr>\n",
              "      <th>25%</th>\n",
              "      <td>57.000000</td>\n",
              "      <td>0.000000</td>\n",
              "      <td>74.340000</td>\n",
              "      <td>1.610000</td>\n",
              "      <td>26.704177</td>\n",
              "      <td>99.500000</td>\n",
              "      <td>0.000000</td>\n",
              "    </tr>\n",
              "    <tr>\n",
              "      <th>50%</th>\n",
              "      <td>62.000000</td>\n",
              "      <td>0.000000</td>\n",
              "      <td>89.220000</td>\n",
              "      <td>1.680000</td>\n",
              "      <td>31.678201</td>\n",
              "      <td>118.000000</td>\n",
              "      <td>1.000000</td>\n",
              "    </tr>\n",
              "    <tr>\n",
              "      <th>75%</th>\n",
              "      <td>67.000000</td>\n",
              "      <td>1.000000</td>\n",
              "      <td>104.135000</td>\n",
              "      <td>1.760000</td>\n",
              "      <td>36.318756</td>\n",
              "      <td>141.500000</td>\n",
              "      <td>1.000000</td>\n",
              "    </tr>\n",
              "    <tr>\n",
              "      <th>max</th>\n",
              "      <td>79.000000</td>\n",
              "      <td>1.000000</td>\n",
              "      <td>160.120000</td>\n",
              "      <td>1.940000</td>\n",
              "      <td>67.515601</td>\n",
              "      <td>199.000000</td>\n",
              "      <td>1.000000</td>\n",
              "    </tr>\n",
              "  </tbody>\n",
              "</table>\n",
              "</div>\n",
              "      <button class=\"colab-df-convert\" onclick=\"convertToInteractive('df-9473a86b-c6c9-42a8-8366-56066273e4f3')\"\n",
              "              title=\"Convert this dataframe to an interactive table.\"\n",
              "              style=\"display:none;\">\n",
              "        \n",
              "  <svg xmlns=\"http://www.w3.org/2000/svg\" height=\"24px\"viewBox=\"0 0 24 24\"\n",
              "       width=\"24px\">\n",
              "    <path d=\"M0 0h24v24H0V0z\" fill=\"none\"/>\n",
              "    <path d=\"M18.56 5.44l.94 2.06.94-2.06 2.06-.94-2.06-.94-.94-2.06-.94 2.06-2.06.94zm-11 1L8.5 8.5l.94-2.06 2.06-.94-2.06-.94L8.5 2.5l-.94 2.06-2.06.94zm10 10l.94 2.06.94-2.06 2.06-.94-2.06-.94-.94-2.06-.94 2.06-2.06.94z\"/><path d=\"M17.41 7.96l-1.37-1.37c-.4-.4-.92-.59-1.43-.59-.52 0-1.04.2-1.43.59L10.3 9.45l-7.72 7.72c-.78.78-.78 2.05 0 2.83L4 21.41c.39.39.9.59 1.41.59.51 0 1.02-.2 1.41-.59l7.78-7.78 2.81-2.81c.8-.78.8-2.07 0-2.86zM5.41 20L4 18.59l7.72-7.72 1.47 1.35L5.41 20z\"/>\n",
              "  </svg>\n",
              "      </button>\n",
              "      \n",
              "  <style>\n",
              "    .colab-df-container {\n",
              "      display:flex;\n",
              "      flex-wrap:wrap;\n",
              "      gap: 12px;\n",
              "    }\n",
              "\n",
              "    .colab-df-convert {\n",
              "      background-color: #E8F0FE;\n",
              "      border: none;\n",
              "      border-radius: 50%;\n",
              "      cursor: pointer;\n",
              "      display: none;\n",
              "      fill: #1967D2;\n",
              "      height: 32px;\n",
              "      padding: 0 0 0 0;\n",
              "      width: 32px;\n",
              "    }\n",
              "\n",
              "    .colab-df-convert:hover {\n",
              "      background-color: #E2EBFA;\n",
              "      box-shadow: 0px 1px 2px rgba(60, 64, 67, 0.3), 0px 1px 3px 1px rgba(60, 64, 67, 0.15);\n",
              "      fill: #174EA6;\n",
              "    }\n",
              "\n",
              "    [theme=dark] .colab-df-convert {\n",
              "      background-color: #3B4455;\n",
              "      fill: #D2E3FC;\n",
              "    }\n",
              "\n",
              "    [theme=dark] .colab-df-convert:hover {\n",
              "      background-color: #434B5C;\n",
              "      box-shadow: 0px 1px 3px 1px rgba(0, 0, 0, 0.15);\n",
              "      filter: drop-shadow(0px 1px 2px rgba(0, 0, 0, 0.3));\n",
              "      fill: #FFFFFF;\n",
              "    }\n",
              "  </style>\n",
              "\n",
              "      <script>\n",
              "        const buttonEl =\n",
              "          document.querySelector('#df-9473a86b-c6c9-42a8-8366-56066273e4f3 button.colab-df-convert');\n",
              "        buttonEl.style.display =\n",
              "          google.colab.kernel.accessAllowed ? 'block' : 'none';\n",
              "\n",
              "        async function convertToInteractive(key) {\n",
              "          const element = document.querySelector('#df-9473a86b-c6c9-42a8-8366-56066273e4f3');\n",
              "          const dataTable =\n",
              "            await google.colab.kernel.invokeFunction('convertToInteractive',\n",
              "                                                     [key], {});\n",
              "          if (!dataTable) return;\n",
              "\n",
              "          const docLinkHtml = 'Like what you see? Visit the ' +\n",
              "            '<a target=\"_blank\" href=https://colab.research.google.com/notebooks/data_table.ipynb>data table notebook</a>'\n",
              "            + ' to learn more about interactive tables.';\n",
              "          element.innerHTML = '';\n",
              "          dataTable['output_type'] = 'display_data';\n",
              "          await google.colab.output.renderOutput(dataTable, element);\n",
              "          const docLink = document.createElement('div');\n",
              "          docLink.innerHTML = docLinkHtml;\n",
              "          element.appendChild(docLink);\n",
              "        }\n",
              "      </script>\n",
              "    </div>\n",
              "  </div>\n",
              "  "
            ]
          },
          "metadata": {},
          "execution_count": 22
        }
      ]
    },
    {
      "cell_type": "code",
      "source": [
        "df3=miraculonB_df"
      ],
      "metadata": {
        "id": "jB5b-sqOxZ4I"
      },
      "execution_count": 23,
      "outputs": []
    },
    {
      "cell_type": "code",
      "source": [
        "# scaling some of the features\n",
        "cols_to_scale = ['age', 'weight', 'height','BMI','protein_concentration']\n",
        "\n",
        "from sklearn.preprocessing import MinMaxScaler\n",
        "scaler = MinMaxScaler()\n",
        "df3[cols_to_scale] = scaler.fit_transform(df3[cols_to_scale])"
      ],
      "metadata": {
        "id": "ZyEP62_cv4e7"
      },
      "execution_count": 24,
      "outputs": []
    },
    {
      "cell_type": "code",
      "source": [],
      "metadata": {
        "id": "sBWu8rj7xApv"
      },
      "execution_count": 24,
      "outputs": []
    },
    {
      "cell_type": "code",
      "source": [
        "for col in df3:\n",
        "  print(f'{col}: {df3[col].unique()}')"
      ],
      "metadata": {
        "colab": {
          "base_uri": "https://localhost:8080/"
        },
        "id": "hVo-WF7SxAnE",
        "outputId": "72b0e185-4293-46e2-ca36-f8ed9ed73c89"
      },
      "execution_count": 25,
      "outputs": [
        {
          "output_type": "stream",
          "name": "stdout",
          "text": [
            "age: [0.21428571 0.23809524 0.52380952 0.47619048 0.83333333 0.85714286\n",
            " 0.38095238 0.5        0.42857143 0.66666667 0.4047619  0.33333333\n",
            " 0.45238095 0.69047619 0.76190476 0.28571429 0.61904762 0.5952381\n",
            " 0.64285714 0.80952381 0.57142857 0.97619048 0.73809524 0.95238095\n",
            " 0.54761905 0.35714286 0.71428571 1.         0.78571429 0.88095238\n",
            " 0.16666667 0.30952381 0.9047619  0.04761905 0.92857143 0.\n",
            " 0.26190476 0.19047619]\n",
            "sex: [1 0]\n",
            "weight: [0.33777973 0.2197455  0.14716981 0.41535761 0.34576569 0.3968195\n",
            " 0.69197016 0.26450197 0.39333041 0.29872751 0.35612111 0.74997806\n",
            " 0.4230803  0.34681878 0.61254936 0.46967968 0.25247916 0.44107065\n",
            " 0.0817025  0.50179903 0.33058359 0.36314173 0.20991663 0.36796841\n",
            " 0.58411584 0.55594559 0.46634489 0.16191312 0.71443616 0.27836771\n",
            " 0.4754717  0.50864414 0.02395788 0.14918824 0.51426064 0.8896007\n",
            " 0.80421237 0.44914436 0.05660377 0.91426064 0.35726196 0.28740676\n",
            " 0.436595   0.69556823 0.17586661 0.42448442 0.06265906 0.40008776\n",
            " 0.16129882 0.28600263 0.71232997 0.5667398  0.4388767  0.39789381\n",
            " 0.28328214 0.29679684 0.23931549 0.40947784 0.49881527 0.30153576\n",
            " 0.78709961 0.53777973 0.59526108 0.2771391  0.45335674 0.01728828\n",
            " 0.11926283 0.57876262 0.49925406 0.31127688 0.6912681  0.04826678\n",
            " 0.61720053 0.90118473 0.72496709 0.30829311 0.54637999 0.79868363\n",
            " 0.31320755 0.43483984 0.38437911 0.47591049 0.3763054  0.41421676\n",
            " 0.39526108 0.74251865 0.46915314 0.43835015 1.         0.37270733\n",
            " 0.40149188 0.30092146 0.32487933 0.29372532 0.50013164 0.13067135\n",
            " 0.43369899 0.39815709 0.34778412 0.20684511 0.53830627 0.39648969\n",
            " 0.23940325 0.53514699 0.21930671 0.32408951 0.19631417 0.47950856\n",
            " 0.49284774 0.50750329 0.38078104 0.59096095 0.80351031 0.23413778\n",
            " 0.58464239 0.41834138 0.1228609  0.33216323 0.24344011 0.2180781\n",
            " 0.48161474 0.27345327 0.30039491 0.78622203 0.44695042 0.57849934\n",
            " 0.25484862 0.19648969 0.3436595  0.21825362 0.50530935 0.30557262\n",
            " 0.50495832 0.7538394  0.26151821 0.24036858 0.6794208  0.3307591\n",
            " 0.09109258 0.1966652  0.37823607 0.57411145 0.28749452 0.23685827\n",
            " 0.17314612 0.42114963 0.65739359 0.24080737 0.44493199 0.01869241\n",
            " 0.72119351 0.20315928 0.16252742 0.2935498  0.51320755 0.08038613\n",
            " 0.24194822 0.18279947 0.80903905 0.45581395 0.16454585 0.69986836\n",
            " 0.4596753  0.18999561 0.28319438 0.4022817  0.12172005 0.63747258\n",
            " 0.49179465 0.31952611 0.44071961 0.44809127 0.58209741 0.5819219\n",
            " 0.40263273 0.63115401 0.53523475 0.41562089 0.58490566 0.33795524\n",
            " 0.05993857 0.19455902 0.30846863 0.13821852 0.29495393 0.53681439\n",
            " 0.92242211 0.10048267 0.55822729 0.39824484 0.25748135 0.48486178\n",
            " 0.26248355 0.1842036  0.83589294 0.6326459  0.12566915 0.19429574\n",
            " 0.67266345 0.49802545 0.4207986  0.58323826 0.13584906 0.26766125\n",
            " 0.28214129 0.1093462  0.48284335 0.15831505 0.34620448 0.45283019\n",
            " 0.57182975 0.4270294  0.31250548 0.0715226  0.6230803  0.45677929\n",
            " 0.33839403 0.43071523 0.49548047 0.         0.12066696 0.33391839\n",
            " 0.14418605 0.23624397 0.87915753 0.59289162 0.48740676 0.28047389\n",
            " 0.15743747 0.20807372 0.57946468 0.83247038 0.48723124 0.22518649\n",
            " 0.54831066 0.23150505 0.24273804 0.67204914 0.45370777 0.58051777\n",
            " 0.225362   0.24914436 0.14743308 0.12093023 0.12988153 0.34295744\n",
            " 0.65756911 0.06099166 0.31777095 0.00359807 0.6467749  0.47020623\n",
            " 0.47178587 0.33813076 0.34313295 0.50688899 0.48714348 0.4602896\n",
            " 0.39710399 0.35436595 0.29091707 0.32373848 0.37779728 0.27819219\n",
            " 0.14067573 0.52812637 0.17455024 0.66494076 0.29197016 0.30021939\n",
            " 0.19763054 0.33339184 0.36015796 0.58139535 0.70487056 0.14243089\n",
            " 0.59622642 0.16867047 0.56243967 0.5087319  0.18516893 0.25107503\n",
            " 0.4355419  0.01000439 0.20386134 0.55445371 0.74418605 0.15234752\n",
            " 0.22676613 0.39394471 0.32189557 0.44940763 0.1960509  0.11733216\n",
            " 0.26099166 0.34418605 0.31241773 0.39780606 0.56410706 0.52303642\n",
            " 0.09556823 0.37455024 0.42422115 0.1977183  0.35533129 0.27766564\n",
            " 0.50399298 0.40122861 0.54559017 0.40342255 0.47310224 0.11285652\n",
            " 0.25783238 0.1779728  0.55910487 0.61193506 0.61737604 0.51505046\n",
            " 0.43624397 0.36287846 0.27108381 0.2850373  0.56884599 0.29653357\n",
            " 0.37569109 0.04765248 0.22659061 0.21272488 0.81088197 0.24326459\n",
            " 0.42132514 0.06064063 0.36603774 0.04817903 0.70636244 0.11987714\n",
            " 0.45844669 0.73418166 0.39517332 0.25625274 0.27573497 0.88275559\n",
            " 0.29012725 0.25704256 0.53663888 0.44475647 0.46836332 0.33979816\n",
            " 0.39921018 0.56946029 0.24528302 0.30206231 0.46643265 0.58560772\n",
            " 0.35401492 0.09240895 0.23747258 0.71592804 0.15568232 0.82904783\n",
            " 0.3627907  0.59894691 0.68582712 0.69012725 0.7149627  0.62281703\n",
            " 0.49030276 0.33856955 0.14076349 0.58525669 0.30592365 0.3729706\n",
            " 0.29942957]\n",
            "height: [0.31372549 0.41176471 0.1372549  0.39215686 0.49019608 0.76470588\n",
            " 0.62745098 0.66666667 0.54901961 0.43137255 0.25490196 0.23529412\n",
            " 0.29411765 0.52941176 0.70588235 0.56862745 0.58823529 0.50980392\n",
            " 0.82352941 0.37254902 0.47058824 0.68627451 0.8627451  0.33333333\n",
            " 0.2745098  0.45098039 0.17647059 0.35294118 0.64705882 0.60784314\n",
            " 0.84313725 0.15686275 0.80392157 0.21568627 0.78431373 0.7254902\n",
            " 0.74509804 1.         0.19607843 0.90196078 0.11764706 0.05882353\n",
            " 0.         0.01960784 0.88235294]\n",
            "BMI: [0.31312318 0.17159072 0.20181422 0.34751524 0.24914621 0.32302488\n",
            " 0.39902167 0.18291925 0.23689053 0.15395697 0.23600696 0.50475803\n",
            " 0.3369234  0.34791535 0.43771834 0.37629373 0.2667953  0.43699889\n",
            " 0.08576032 0.35901817 0.27412398 0.18871439 0.11538997 0.29835134\n",
            " 0.40632949 0.37581313 0.3227111  0.09385992 0.5495992  0.18764634\n",
            " 0.2290111  0.42827601 0.2680211  0.02759717 0.12302828 0.39546408\n",
            " 0.57712082 0.44994723 0.29373248 0.03207148 0.50504062 0.28131559\n",
            " 0.13434592 0.39348523 0.50302257 0.13406537 0.4113646  0.1154197\n",
            " 0.27806609 0.04381579 0.21409644 0.64123236 0.41988609 0.43492525\n",
            " 0.22676417 0.32256117 0.26787696 0.20905898 0.32543112 0.30842353\n",
            " 0.17406487 0.74974361 0.50598443 0.30230745 0.19989742 0.40854561\n",
            " 0.06333623 0.05951162 0.28436036 0.29374213 0.18146547 0.38207238\n",
            " 0.07693873 0.4508663  0.59627682 0.65258678 0.12719387 0.38566825\n",
            " 0.52102123 0.23680492 0.26806704 0.29621321 0.27679547 0.20448548\n",
            " 0.25967181 0.21824668 0.51920134 0.23116902 0.26352457 1.\n",
            " 0.34490152 0.19120637 0.19258586 0.23927132 0.20001455 0.30182646\n",
            " 0.10105433 0.25305208 0.25454689 0.18377998 0.04406482 0.39698722\n",
            " 0.35745072 0.22361684 0.26911697 0.14608676 0.21081029 0.11029976\n",
            " 0.33306589 0.35189383 0.38095646 0.38001528 0.55498496 0.56607567\n",
            " 0.14598638 0.33985156 0.35892731 0.00382833 0.22400491 0.14736993\n",
            " 0.18340674 0.4048759  0.23935184 0.26325906 0.69436771 0.26278119\n",
            " 0.35127157 0.24529508 0.21319099 0.30998294 0.24180454 0.2764086\n",
            " 0.28382003 0.37013053 0.44198409 0.18701405 0.13906633 0.30001545\n",
            " 0.16546762 0.13778963 0.14563253 0.406932   0.36132772 0.28824589\n",
            " 0.25181163 0.17959037 0.05232071 0.37041323 0.51351338 0.45091884\n",
            " 0.28882113 0.26841197 0.05914493 0.42798108 0.15111917 0.13471939\n",
            " 0.16799772 0.31911065 0.02361534 0.27249248 0.17732337 0.15248681\n",
            " 0.54911699 0.29127437 0.1127141  0.60567139 0.31746467 0.15879386\n",
            " 0.15417062 0.27981225 0.07696657 0.45732342 0.48494143 0.18145831\n",
            " 0.35092068 0.36947184 0.26361879 0.42292771 0.41362619 0.19198995\n",
            " 0.35679052 0.34058988 0.35989609 0.43322591 0.50491243 0.2574623\n",
            " 0.03981897 0.15005117 0.12200108 0.08532228 0.29049155 0.27713761\n",
            " 0.54900125 0.08034032 0.33655473 0.27659932 0.12367433 0.3455378\n",
            " 0.22232585 0.07480556 0.32502829 0.48956969 0.40780077 0.00176073\n",
            " 0.16910979 0.44668931 0.50188128 0.32661326 0.45235357 0.08336806\n",
            " 0.24932696 0.23955486 0.12975983 0.23396536 0.         0.28764742\n",
            " 0.23296124 0.3709561  0.31537317 0.25091931 0.06016452 0.3920945\n",
            " 0.30732544 0.17094856 0.24398521 0.39809199 0.05694246 0.07608753\n",
            " 0.35398478 0.11864411 0.19932819 0.55915081 0.30073209 0.4194596\n",
            " 0.2235258  0.11249028 0.15527122 0.53301653 0.48721895 0.45940965\n",
            " 0.16333202 0.3699454  0.1750676  0.22665095 0.38518838 0.30493734\n",
            " 0.36909252 0.21812647 0.24774377 0.23346239 0.08164648 0.15609475\n",
            " 0.2769619  0.39162398 0.0310063  0.35774706 0.27867804 0.00443866\n",
            " 0.46464081 0.23188448 0.30340868 0.30501538 0.23273572 0.36306927\n",
            " 0.42897423 0.43458595 0.27569131 0.33698916 0.30359575 0.30034796\n",
            " 0.1930073  0.24355702 0.15307619 0.39776352 0.16461133 0.41402517\n",
            " 0.27949843 0.29540509 0.08990615 0.3534741  0.18048473 0.32982866\n",
            " 0.48048969 0.14171474 0.41574545 0.0885547  0.33961278 0.30062272\n",
            " 0.06095163 0.21232687 0.27587312 0.10416161 0.11068199 0.34170934\n",
            " 0.43528073 0.02859375 0.11726027 0.25847162 0.29867122 0.36799839\n",
            " 0.15765525 0.03872267 0.20686455 0.28590001 0.11942773 0.45803721\n",
            " 0.51904364 0.32640918 0.13567979 0.1846025  0.32947014 0.1655624\n",
            " 0.18925898 0.15593007 0.26160806 0.27148939 0.3273806  0.23082334\n",
            " 0.43624429 0.10848023 0.21114122 0.14825647 0.32172187 0.41884308\n",
            " 0.50107765 0.39611549 0.40270936 0.33595887 0.29304316 0.32430854\n",
            " 0.30615159 0.14657379 0.25864877 0.13945929 0.12269178 0.12320874\n",
            " 0.64010335 0.29129996 0.30277676 0.1009071  0.20337567 0.12635997\n",
            " 0.56497898 0.13341809 0.48574643 0.41122755 0.24520397 0.2389471\n",
            " 0.13707601 0.53150437 0.35753122 0.19664343 0.33650982 0.41045433\n",
            " 0.44202497 0.23951109 0.33233852 0.22773064 0.47066774 0.09893227\n",
            " 0.22045291 0.43017607 0.35643202 0.29440914 0.10148411 0.24456516\n",
            " 0.5294436  0.10531553 0.48486821 0.20741715 0.29062924 0.62978877\n",
            " 0.36538027 0.41498785 0.36695265 0.28000051 0.20875169 0.0928625\n",
            " 0.37261145 0.15924033 0.24216427 0.24715308]\n",
            "protein_concentration: [0.64335664 0.2027972  0.23076923 0.41258741 0.98601399 0.48251748\n",
            " 0.78321678 0.58041958 0.93006993 0.76923077 0.30769231 0.32867133\n",
            " 0.3006993  0.97902098 0.60839161 0.63636364 0.62237762 0.37062937\n",
            " 0.71328671 0.46153846 0.32167832 0.23776224 0.38461538 0.86713287\n",
            " 0.34965035 0.8041958  0.72027972 0.62937063 0.34265734 0.31468531\n",
            " 0.91608392 0.53846154 0.27272727 0.48951049 0.16083916 0.45934799\n",
            " 0.52447552 0.54545455 0.25174825 0.1048951  0.25874126 0.74825175\n",
            " 0.61538462 0.69230769 0.28671329 0.35664336 0.53146853 0.22377622\n",
            " 0.44755245 0.43356643 0.1958042  0.27972028 0.5034965  0.36363636\n",
            " 0.00699301 0.55944056 0.40559441 0.67832168 0.92307692 0.67132867\n",
            " 0.37762238 0.21678322 0.13286713 0.51048951 0.44055944 0.59440559\n",
            " 0.87412587 0.46853147 0.3986014  0.8951049  0.6013986  0.74125874\n",
            " 0.42657343 0.33566434 0.24475524 0.76223776 0.20979021 0.57342657\n",
            " 0.73426573 0.77622378 0.65734266 0.56643357 0.39160839 0.70629371\n",
            " 0.51748252 0.47552448 0.58741259 0.41958042 0.95804196 0.18881119\n",
            " 0.66433566 0.55244755 0.16783217 0.18181818 0.83216783 0.12587413\n",
            " 0.68531469 0.96503497 0.14685315 0.90909091 0.75524476 0.15384615\n",
            " 0.83916084 0.11888112 0.82517483 0.08391608 0.88811189 0.26573427\n",
            " 0.4965035  1.         0.29370629 0.97202797 0.6993007  0.\n",
            " 0.79020979 0.45454545]\n",
            "RESPONSE: [0 1]\n"
          ]
        }
      ]
    },
    {
      "cell_type": "code",
      "source": [
        "df4=df3"
      ],
      "metadata": {
        "id": "9GMLF2Olya7q"
      },
      "execution_count": 26,
      "outputs": []
    },
    {
      "cell_type": "code",
      "source": [
        "#Train and split the data\n",
        "X = df3.drop('RESPONSE', axis = 'columns')\n",
        "y = testLabels = df3.RESPONSE.astype(np.float32)\n",
        "\n",
        "from sklearn.model_selection import train_test_split\n",
        "X_train, X_test, y_train, y_test = train_test_split(X, y, test_size = 0.2, random_state=15, stratify = y)"
      ],
      "metadata": {
        "id": "HWiJgYaexAkY"
      },
      "execution_count": 27,
      "outputs": []
    },
    {
      "cell_type": "code",
      "source": [
        "\n"
      ],
      "metadata": {
        "id": "yav4I2YAz1Rh"
      },
      "execution_count": 27,
      "outputs": []
    },
    {
      "cell_type": "code",
      "source": [],
      "metadata": {
        "id": "qUvcJOlQyOsG"
      },
      "execution_count": 27,
      "outputs": []
    },
    {
      "cell_type": "code",
      "source": [],
      "metadata": {
        "id": "iIIcqZJ1yOo9"
      },
      "execution_count": 27,
      "outputs": []
    },
    {
      "cell_type": "code",
      "source": [],
      "metadata": {
        "id": "MUevP6wwz1Y1"
      },
      "execution_count": 27,
      "outputs": []
    },
    {
      "cell_type": "code",
      "source": [
        "y_train.value_counts()"
      ],
      "metadata": {
        "colab": {
          "base_uri": "https://localhost:8080/"
        },
        "id": "vMY4jDqmz1cv",
        "outputId": "d543a90b-d7b7-41af-8cff-acd1843db575"
      },
      "execution_count": 28,
      "outputs": [
        {
          "output_type": "execute_result",
          "data": {
            "text/plain": [
              "1.0    168\n",
              "0.0    138\n",
              "Name: RESPONSE, dtype: int64"
            ]
          },
          "metadata": {},
          "execution_count": 28
        }
      ]
    },
    {
      "cell_type": "code",
      "source": [
        "y_test.value_counts()"
      ],
      "metadata": {
        "colab": {
          "base_uri": "https://localhost:8080/"
        },
        "id": "VTShC9d43ypf",
        "outputId": "530bfc2a-6bc5-4b81-ef2b-45a642b4987e"
      },
      "execution_count": 29,
      "outputs": [
        {
          "output_type": "execute_result",
          "data": {
            "text/plain": [
              "1.0    42\n",
              "0.0    35\n",
              "Name: RESPONSE, dtype: int64"
            ]
          },
          "metadata": {},
          "execution_count": 29
        }
      ]
    },
    {
      "cell_type": "code",
      "source": [
        "X_train.shape"
      ],
      "metadata": {
        "colab": {
          "base_uri": "https://localhost:8080/"
        },
        "id": "K2Fa-tx_3ytz",
        "outputId": "616f5a4b-7366-4c5d-ba36-c697b6e3226a"
      },
      "execution_count": 30,
      "outputs": [
        {
          "output_type": "execute_result",
          "data": {
            "text/plain": [
              "(306, 6)"
            ]
          },
          "metadata": {},
          "execution_count": 30
        }
      ]
    },
    {
      "cell_type": "code",
      "source": [
        "X_test.shape"
      ],
      "metadata": {
        "colab": {
          "base_uri": "https://localhost:8080/"
        },
        "id": "Q0n6yfj73yxc",
        "outputId": "893dec13-dfb8-41c7-84a7-d10fd4a843e9"
      },
      "execution_count": 31,
      "outputs": [
        {
          "output_type": "execute_result",
          "data": {
            "text/plain": [
              "(77, 6)"
            ]
          },
          "metadata": {},
          "execution_count": 31
        }
      ]
    },
    {
      "cell_type": "code",
      "source": [
        "X_train"
      ],
      "metadata": {
        "colab": {
          "base_uri": "https://localhost:8080/",
          "height": 424
        },
        "id": "qpc1vgTjy0QS",
        "outputId": "a4ed22b7-c1fa-4ca5-d2b9-a735d32c9f7c"
      },
      "execution_count": 32,
      "outputs": [
        {
          "output_type": "execute_result",
          "data": {
            "text/plain": [
              "          age  sex    weight    height       BMI  protein_concentration\n",
              "12   0.500000    1  0.264502  0.490196  0.182919               0.580420\n",
              "312  0.285714    0  0.293550  0.607843  0.167998               0.692308\n",
              "755  0.666667    0  0.622817  0.725490  0.366953               0.503497\n",
              "676  0.380952    1  0.047652  0.019608  0.139459               0.699301\n",
              "315  0.690476    0  0.513208  0.647059  0.319111               0.391608\n",
              "..        ...  ...       ...       ...       ...                    ...\n",
              "43   0.809524    1  0.714436  0.490196  0.549599               0.804196\n",
              "382  0.714286    1  0.194559  0.411765  0.150051               0.370629\n",
              "507  0.333333    1  0.225362  0.294118  0.218126               0.517483\n",
              "474  0.547619    1  0.280474  0.411765  0.223526               0.405594\n",
              "384  0.690476    0  0.308469  0.803922  0.122001               0.482517\n",
              "\n",
              "[306 rows x 6 columns]"
            ],
            "text/html": [
              "\n",
              "  <div id=\"df-6dee44a1-6a71-49f9-b796-273cf00a1e8f\">\n",
              "    <div class=\"colab-df-container\">\n",
              "      <div>\n",
              "<style scoped>\n",
              "    .dataframe tbody tr th:only-of-type {\n",
              "        vertical-align: middle;\n",
              "    }\n",
              "\n",
              "    .dataframe tbody tr th {\n",
              "        vertical-align: top;\n",
              "    }\n",
              "\n",
              "    .dataframe thead th {\n",
              "        text-align: right;\n",
              "    }\n",
              "</style>\n",
              "<table border=\"1\" class=\"dataframe\">\n",
              "  <thead>\n",
              "    <tr style=\"text-align: right;\">\n",
              "      <th></th>\n",
              "      <th>age</th>\n",
              "      <th>sex</th>\n",
              "      <th>weight</th>\n",
              "      <th>height</th>\n",
              "      <th>BMI</th>\n",
              "      <th>protein_concentration</th>\n",
              "    </tr>\n",
              "  </thead>\n",
              "  <tbody>\n",
              "    <tr>\n",
              "      <th>12</th>\n",
              "      <td>0.500000</td>\n",
              "      <td>1</td>\n",
              "      <td>0.264502</td>\n",
              "      <td>0.490196</td>\n",
              "      <td>0.182919</td>\n",
              "      <td>0.580420</td>\n",
              "    </tr>\n",
              "    <tr>\n",
              "      <th>312</th>\n",
              "      <td>0.285714</td>\n",
              "      <td>0</td>\n",
              "      <td>0.293550</td>\n",
              "      <td>0.607843</td>\n",
              "      <td>0.167998</td>\n",
              "      <td>0.692308</td>\n",
              "    </tr>\n",
              "    <tr>\n",
              "      <th>755</th>\n",
              "      <td>0.666667</td>\n",
              "      <td>0</td>\n",
              "      <td>0.622817</td>\n",
              "      <td>0.725490</td>\n",
              "      <td>0.366953</td>\n",
              "      <td>0.503497</td>\n",
              "    </tr>\n",
              "    <tr>\n",
              "      <th>676</th>\n",
              "      <td>0.380952</td>\n",
              "      <td>1</td>\n",
              "      <td>0.047652</td>\n",
              "      <td>0.019608</td>\n",
              "      <td>0.139459</td>\n",
              "      <td>0.699301</td>\n",
              "    </tr>\n",
              "    <tr>\n",
              "      <th>315</th>\n",
              "      <td>0.690476</td>\n",
              "      <td>0</td>\n",
              "      <td>0.513208</td>\n",
              "      <td>0.647059</td>\n",
              "      <td>0.319111</td>\n",
              "      <td>0.391608</td>\n",
              "    </tr>\n",
              "    <tr>\n",
              "      <th>...</th>\n",
              "      <td>...</td>\n",
              "      <td>...</td>\n",
              "      <td>...</td>\n",
              "      <td>...</td>\n",
              "      <td>...</td>\n",
              "      <td>...</td>\n",
              "    </tr>\n",
              "    <tr>\n",
              "      <th>43</th>\n",
              "      <td>0.809524</td>\n",
              "      <td>1</td>\n",
              "      <td>0.714436</td>\n",
              "      <td>0.490196</td>\n",
              "      <td>0.549599</td>\n",
              "      <td>0.804196</td>\n",
              "    </tr>\n",
              "    <tr>\n",
              "      <th>382</th>\n",
              "      <td>0.714286</td>\n",
              "      <td>1</td>\n",
              "      <td>0.194559</td>\n",
              "      <td>0.411765</td>\n",
              "      <td>0.150051</td>\n",
              "      <td>0.370629</td>\n",
              "    </tr>\n",
              "    <tr>\n",
              "      <th>507</th>\n",
              "      <td>0.333333</td>\n",
              "      <td>1</td>\n",
              "      <td>0.225362</td>\n",
              "      <td>0.294118</td>\n",
              "      <td>0.218126</td>\n",
              "      <td>0.517483</td>\n",
              "    </tr>\n",
              "    <tr>\n",
              "      <th>474</th>\n",
              "      <td>0.547619</td>\n",
              "      <td>1</td>\n",
              "      <td>0.280474</td>\n",
              "      <td>0.411765</td>\n",
              "      <td>0.223526</td>\n",
              "      <td>0.405594</td>\n",
              "    </tr>\n",
              "    <tr>\n",
              "      <th>384</th>\n",
              "      <td>0.690476</td>\n",
              "      <td>0</td>\n",
              "      <td>0.308469</td>\n",
              "      <td>0.803922</td>\n",
              "      <td>0.122001</td>\n",
              "      <td>0.482517</td>\n",
              "    </tr>\n",
              "  </tbody>\n",
              "</table>\n",
              "<p>306 rows × 6 columns</p>\n",
              "</div>\n",
              "      <button class=\"colab-df-convert\" onclick=\"convertToInteractive('df-6dee44a1-6a71-49f9-b796-273cf00a1e8f')\"\n",
              "              title=\"Convert this dataframe to an interactive table.\"\n",
              "              style=\"display:none;\">\n",
              "        \n",
              "  <svg xmlns=\"http://www.w3.org/2000/svg\" height=\"24px\"viewBox=\"0 0 24 24\"\n",
              "       width=\"24px\">\n",
              "    <path d=\"M0 0h24v24H0V0z\" fill=\"none\"/>\n",
              "    <path d=\"M18.56 5.44l.94 2.06.94-2.06 2.06-.94-2.06-.94-.94-2.06-.94 2.06-2.06.94zm-11 1L8.5 8.5l.94-2.06 2.06-.94-2.06-.94L8.5 2.5l-.94 2.06-2.06.94zm10 10l.94 2.06.94-2.06 2.06-.94-2.06-.94-.94-2.06-.94 2.06-2.06.94z\"/><path d=\"M17.41 7.96l-1.37-1.37c-.4-.4-.92-.59-1.43-.59-.52 0-1.04.2-1.43.59L10.3 9.45l-7.72 7.72c-.78.78-.78 2.05 0 2.83L4 21.41c.39.39.9.59 1.41.59.51 0 1.02-.2 1.41-.59l7.78-7.78 2.81-2.81c.8-.78.8-2.07 0-2.86zM5.41 20L4 18.59l7.72-7.72 1.47 1.35L5.41 20z\"/>\n",
              "  </svg>\n",
              "      </button>\n",
              "      \n",
              "  <style>\n",
              "    .colab-df-container {\n",
              "      display:flex;\n",
              "      flex-wrap:wrap;\n",
              "      gap: 12px;\n",
              "    }\n",
              "\n",
              "    .colab-df-convert {\n",
              "      background-color: #E8F0FE;\n",
              "      border: none;\n",
              "      border-radius: 50%;\n",
              "      cursor: pointer;\n",
              "      display: none;\n",
              "      fill: #1967D2;\n",
              "      height: 32px;\n",
              "      padding: 0 0 0 0;\n",
              "      width: 32px;\n",
              "    }\n",
              "\n",
              "    .colab-df-convert:hover {\n",
              "      background-color: #E2EBFA;\n",
              "      box-shadow: 0px 1px 2px rgba(60, 64, 67, 0.3), 0px 1px 3px 1px rgba(60, 64, 67, 0.15);\n",
              "      fill: #174EA6;\n",
              "    }\n",
              "\n",
              "    [theme=dark] .colab-df-convert {\n",
              "      background-color: #3B4455;\n",
              "      fill: #D2E3FC;\n",
              "    }\n",
              "\n",
              "    [theme=dark] .colab-df-convert:hover {\n",
              "      background-color: #434B5C;\n",
              "      box-shadow: 0px 1px 3px 1px rgba(0, 0, 0, 0.15);\n",
              "      filter: drop-shadow(0px 1px 2px rgba(0, 0, 0, 0.3));\n",
              "      fill: #FFFFFF;\n",
              "    }\n",
              "  </style>\n",
              "\n",
              "      <script>\n",
              "        const buttonEl =\n",
              "          document.querySelector('#df-6dee44a1-6a71-49f9-b796-273cf00a1e8f button.colab-df-convert');\n",
              "        buttonEl.style.display =\n",
              "          google.colab.kernel.accessAllowed ? 'block' : 'none';\n",
              "\n",
              "        async function convertToInteractive(key) {\n",
              "          const element = document.querySelector('#df-6dee44a1-6a71-49f9-b796-273cf00a1e8f');\n",
              "          const dataTable =\n",
              "            await google.colab.kernel.invokeFunction('convertToInteractive',\n",
              "                                                     [key], {});\n",
              "          if (!dataTable) return;\n",
              "\n",
              "          const docLinkHtml = 'Like what you see? Visit the ' +\n",
              "            '<a target=\"_blank\" href=https://colab.research.google.com/notebooks/data_table.ipynb>data table notebook</a>'\n",
              "            + ' to learn more about interactive tables.';\n",
              "          element.innerHTML = '';\n",
              "          dataTable['output_type'] = 'display_data';\n",
              "          await google.colab.output.renderOutput(dataTable, element);\n",
              "          const docLink = document.createElement('div');\n",
              "          docLink.innerHTML = docLinkHtml;\n",
              "          element.appendChild(docLink);\n",
              "        }\n",
              "      </script>\n",
              "    </div>\n",
              "  </div>\n",
              "  "
            ]
          },
          "metadata": {},
          "execution_count": 32
        }
      ]
    },
    {
      "cell_type": "code",
      "source": [
        "#X_train[:10]"
      ],
      "metadata": {
        "id": "JHlpulRf3y1N"
      },
      "execution_count": 33,
      "outputs": []
    },
    {
      "cell_type": "code",
      "source": [
        "len(X_train.columns)"
      ],
      "metadata": {
        "colab": {
          "base_uri": "https://localhost:8080/"
        },
        "id": "CbPdjUCO3y4_",
        "outputId": "7c7eab0b-e0c2-4bfd-c9fc-6288f3e810ca"
      },
      "execution_count": 34,
      "outputs": [
        {
          "output_type": "execute_result",
          "data": {
            "text/plain": [
              "6"
            ]
          },
          "metadata": {},
          "execution_count": 34
        }
      ]
    },
    {
      "cell_type": "code",
      "source": [
        "# Use logistic regression\n",
        "\n",
        "from sklearn.linear_model import LogisticRegression\n",
        "from sklearn.metrics import classification_report"
      ],
      "metadata": {
        "id": "2sK878RS3y8s"
      },
      "execution_count": 35,
      "outputs": []
    },
    {
      "cell_type": "code",
      "source": [
        "def log_reg(X_train, y_train, X_test, y_test, weights):\n",
        "  if weights ==-1:\n",
        "    model = LogisticRegression()\n",
        "  else:\n",
        "    model = LogisticRegression(class_weight={0:weights[0], 1:weights[1]})\n",
        "  model.fit(X_train, y_train)\n",
        "  acc = model.score(X_test, y_test)\n",
        "  print('Accuracy', acc, '\\n')\n",
        "\n",
        "  y_pred = model.predict(X_test)\n",
        "  print('preds', y_pred[:5], '\\n')\n",
        "\n",
        "  cl_rep = classification_report(y_test, y_pred)\n",
        "  print(cl_rep)\n",
        "\n"
      ],
      "metadata": {
        "id": "uFGOqkuL3zAU"
      },
      "execution_count": 36,
      "outputs": []
    },
    {
      "cell_type": "code",
      "source": [
        "weights = -1 # pass - 1 to use logistics regression without weights\n",
        "log_reg(X_train, y_train, X_test, y_test, weights)"
      ],
      "metadata": {
        "colab": {
          "base_uri": "https://localhost:8080/"
        },
        "id": "l_VzB7GQ3zDr",
        "outputId": "059ede23-dec1-4528-e03d-687cd01ceb60"
      },
      "execution_count": 37,
      "outputs": [
        {
          "output_type": "stream",
          "name": "stdout",
          "text": [
            "Accuracy 0.8181818181818182 \n",
            "\n",
            "preds [1. 0. 1. 1. 0.] \n",
            "\n",
            "              precision    recall  f1-score   support\n",
            "\n",
            "         0.0       0.89      0.69      0.77        35\n",
            "         1.0       0.78      0.93      0.85        42\n",
            "\n",
            "    accuracy                           0.82        77\n",
            "   macro avg       0.83      0.81      0.81        77\n",
            "weighted avg       0.83      0.82      0.81        77\n",
            "\n"
          ]
        }
      ]
    },
    {
      "cell_type": "code",
      "source": [
        "# OVERSAMPLING TECHNIQUE TO ADDRESS CLASS IMBALANCE\n",
        "X = df3.drop('RESPONSE', axis='columns')\n",
        "y = df3['RESPONSE']"
      ],
      "metadata": {
        "id": "_-fJ-UKa3zHD"
      },
      "execution_count": 38,
      "outputs": []
    },
    {
      "cell_type": "code",
      "source": [
        "from imblearn.over_sampling import SMOTE\n",
        "\n",
        "smote = SMOTE(sampling_strategy = 'minority')\n",
        "X_sm, y_sm = smote.fit_resample(X, y)\n",
        "y_sm.value_counts()"
      ],
      "metadata": {
        "colab": {
          "base_uri": "https://localhost:8080/"
        },
        "id": "0YsdXGQQ3zKe",
        "outputId": "d605a899-18b3-4bb6-bd70-57acecc09f57"
      },
      "execution_count": 39,
      "outputs": [
        {
          "output_type": "execute_result",
          "data": {
            "text/plain": [
              "0    210\n",
              "1    210\n",
              "Name: RESPONSE, dtype: int64"
            ]
          },
          "metadata": {},
          "execution_count": 39
        }
      ]
    },
    {
      "cell_type": "code",
      "source": [
        "from sklearn.model_selection import train_test_split\n",
        "X_train, X_test, y_train, y_test = train_test_split(X_sm, y_sm, test_size = 0.2, random_state=15, stratify = y_sm)"
      ],
      "metadata": {
        "id": "x4zMN_c_8mUs"
      },
      "execution_count": 40,
      "outputs": []
    },
    {
      "cell_type": "code",
      "source": [],
      "metadata": {
        "id": "yX6bFn7z8mY1"
      },
      "execution_count": 40,
      "outputs": []
    },
    {
      "cell_type": "code",
      "source": [
        "y_train.value_counts()"
      ],
      "metadata": {
        "colab": {
          "base_uri": "https://localhost:8080/"
        },
        "id": "lkX-cb-d8mdU",
        "outputId": "e004994a-8417-436c-8533-43bc22956bf0"
      },
      "execution_count": 41,
      "outputs": [
        {
          "output_type": "execute_result",
          "data": {
            "text/plain": [
              "0    168\n",
              "1    168\n",
              "Name: RESPONSE, dtype: int64"
            ]
          },
          "metadata": {},
          "execution_count": 41
        }
      ]
    },
    {
      "cell_type": "code",
      "source": [
        "# LOGISTIC REGRESSION\n",
        "weights = -1 # pass - 1 to use logistics regression without weights\n",
        "log_reg(X_train, y_train, X_test, y_test, weights)"
      ],
      "metadata": {
        "colab": {
          "base_uri": "https://localhost:8080/"
        },
        "id": "MmmLM8mw8mhq",
        "outputId": "22d33d90-1c05-40a6-c786-be01317faadc"
      },
      "execution_count": 42,
      "outputs": [
        {
          "output_type": "stream",
          "name": "stdout",
          "text": [
            "Accuracy 0.8095238095238095 \n",
            "\n",
            "preds [0 1 0 1 0] \n",
            "\n",
            "              precision    recall  f1-score   support\n",
            "\n",
            "           0       0.88      0.71      0.79        42\n",
            "           1       0.76      0.90      0.83        42\n",
            "\n",
            "    accuracy                           0.81        84\n",
            "   macro avg       0.82      0.81      0.81        84\n",
            "weighted avg       0.82      0.81      0.81        84\n",
            "\n"
          ]
        }
      ]
    },
    {
      "cell_type": "code",
      "source": [
        "# feature importance\n",
        "# better underatsna dthe model and the data\n",
        "# reducing the number of input features\n",
        "\n",
        "from sklearn.linear_model import LogisticRegression\n",
        "model = LogisticRegression()\n",
        "# fit the model\n",
        "model.fit(X_train, y_train)\n",
        "# get importance\n",
        "importance = model.coef_[0]\n",
        "acc = model.score(X_test, y_test)\n",
        "print('Accuracy', acc, '\\n')\n",
        "y_pred = model.predict(X_test)\n",
        "cl_rep = classification_report(y_test,y_pred)\n",
        "print(cl_rep)"
      ],
      "metadata": {
        "colab": {
          "base_uri": "https://localhost:8080/"
        },
        "id": "Rjyn_EpT8ml4",
        "outputId": "e00575cc-e74d-4608-e4fc-230f1e3b808b"
      },
      "execution_count": 43,
      "outputs": [
        {
          "output_type": "stream",
          "name": "stdout",
          "text": [
            "Accuracy 0.8095238095238095 \n",
            "\n",
            "              precision    recall  f1-score   support\n",
            "\n",
            "           0       0.88      0.71      0.79        42\n",
            "           1       0.76      0.90      0.83        42\n",
            "\n",
            "    accuracy                           0.81        84\n",
            "   macro avg       0.82      0.81      0.81        84\n",
            "weighted avg       0.82      0.81      0.81        84\n",
            "\n"
          ]
        }
      ]
    },
    {
      "cell_type": "code",
      "source": [
        "# the higher the coefficient of the feature the higher the importance regardless of the sign\n",
        "importantFeatures = zip(X_train.columns, importance)\n",
        "data =list(importantFeatures)\n",
        "sorted_by_second = sorted (data, key =lambda tup: tup[1], reverse =True)\n"
      ],
      "metadata": {
        "id": "oZiZ-afS8muK"
      },
      "execution_count": 44,
      "outputs": []
    },
    {
      "cell_type": "code",
      "source": [
        "importance_abs = [abs(i) for i in importance]"
      ],
      "metadata": {
        "id": "faj4L4h4A20Q"
      },
      "execution_count": 45,
      "outputs": []
    },
    {
      "cell_type": "code",
      "source": [
        "def plotFeatures (X_train_columns, Fimportance):\n",
        "  from matplotlib import pyplot as plt\n",
        "  #plot the feature importance\n",
        "  plt.figure(figsize = (6,6))\n",
        "  y_pos= range(len(X_train_columns))\n",
        "  plt.bar(X_train_columns, Fimportance)\n",
        "  plt.title('Importance of Features for the model')\n",
        "  plt.xticks(y_pos, X_train_columns, rotation=90)\n",
        "  plt.show()"
      ],
      "metadata": {
        "id": "ugzsiK4MA25F"
      },
      "execution_count": 46,
      "outputs": []
    },
    {
      "cell_type": "code",
      "source": [
        "plotFeatures(X_train.columns, importance_abs)"
      ],
      "metadata": {
        "colab": {
          "base_uri": "https://localhost:8080/",
          "height": 683
        },
        "id": "pG13Q3qwA29n",
        "outputId": "0fafa4fe-0f1f-400a-f490-286c2c28fa0a"
      },
      "execution_count": 47,
      "outputs": [
        {
          "output_type": "display_data",
          "data": {
            "text/plain": [
              "<Figure size 600x600 with 1 Axes>"
            ],
            "image/png": "[encoded data removed]"
          },
          "metadata": {}
        }
      ]
    },
    {
      "cell_type": "code",
      "source": [],
      "metadata": {
        "id": "BhRa7bY3A3B9"
      },
      "execution_count": 47,
      "outputs": []
    },
    {
      "cell_type": "code",
      "source": [
        "#Alternatively"
      ],
      "metadata": {
        "id": "p-of6MoxA3Hb"
      },
      "execution_count": 48,
      "outputs": []
    },
    {
      "cell_type": "code",
      "source": [
        "import pandas as pd\n",
        "import numpy as np\n",
        "import matplotlib.pyplot as plt\n",
        "import seaborn as sns\n",
        "import sklearn as sk\n",
        "import tensorflow as tf\n",
        "from sklearn.metrics import confusion_matrix, classification_report\n",
        "from sklearn.ensemble import RandomForestClassifier\n",
        "from sklearn.feature_selection import SelectKBest, f_classif\n",
        "from sklearn.model_selection import train_test_split\n",
        "from sklearn.impute import KNNImputer\n",
        "from sklearn.preprocessing import LabelEncoder\n",
        "from sklearn.feature_selection import SelectKBest, chi2\n",
        "from imblearn.over_sampling import RandomOverSampler\n",
        "from imblearn.under_sampling import RandomUnderSampler\n",
        "from sklearn.tree import DecisionTreeClassifier\n",
        "from sklearn.metrics import classification_report\n",
        "from sklearn.impute import SimpleImputer\n",
        "from sklearn.preprocessing import StandardScaler\n",
        "from sklearn import metrics\n",
        "from sklearn.model_selection import GridSearchCV\n",
        "from sklearn.neighbors import KNeighborsClassifier\n",
        "from sklearn.ensemble import GradientBoostingClassifier"
      ],
      "metadata": {
        "id": "c-yOAVAwv8GA"
      },
      "execution_count": 49,
      "outputs": []
    },
    {
      "cell_type": "code",
      "source": [
        "df4\n"
      ],
      "metadata": {
        "id": "j0tvhUkJ3Ta0",
        "colab": {
          "base_uri": "https://localhost:8080/",
          "height": 424
        },
        "outputId": "7532852b-3b75-4b26-b94a-8412003c1998"
      },
      "execution_count": 50,
      "outputs": [
        {
          "output_type": "execute_result",
          "data": {
            "text/plain": [
              "          age  sex    weight    height       BMI  protein_concentration  \\\n",
              "0    0.214286    1  0.337780  0.313725  0.313123               0.643357   \n",
              "1    0.238095    1  0.219746  0.411765  0.171591               0.202797   \n",
              "3    0.523810    1  0.147170  0.137255  0.201814               0.230769   \n",
              "7    0.476190    0  0.415358  0.392157  0.347515               0.412587   \n",
              "8    0.833333    0  0.345766  0.490196  0.249146               0.986014   \n",
              "..        ...  ...       ...       ...       ...                    ...   \n",
              "762  0.785714    1  0.140763  0.450980  0.092862               0.230769   \n",
              "764  0.666667    0  0.585257  0.647059  0.372611               0.461538   \n",
              "765  0.547619    0  0.305924  0.666667  0.159240               0.454545   \n",
              "766  0.380952    0  0.372971  0.568627  0.242164               0.489510   \n",
              "767  0.738095    1  0.299430  0.392157  0.247153               0.258741   \n",
              "\n",
              "     RESPONSE  \n",
              "0           0  \n",
              "1           1  \n",
              "3           1  \n",
              "7           0  \n",
              "8           0  \n",
              "..        ...  \n",
              "762         1  \n",
              "764         0  \n",
              "765         0  \n",
              "766         1  \n",
              "767         1  \n",
              "\n",
              "[383 rows x 7 columns]"
            ],
            "text/html": [
              "\n",
              "  <div id=\"df-051db0c9-9840-4f91-b404-df28a76ee7bf\">\n",
              "    <div class=\"colab-df-container\">\n",
              "      <div>\n",
              "<style scoped>\n",
              "    .dataframe tbody tr th:only-of-type {\n",
              "        vertical-align: middle;\n",
              "    }\n",
              "\n",
              "    .dataframe tbody tr th {\n",
              "        vertical-align: top;\n",
              "    }\n",
              "\n",
              "    .dataframe thead th {\n",
              "        text-align: right;\n",
              "    }\n",
              "</style>\n",
              "<table border=\"1\" class=\"dataframe\">\n",
              "  <thead>\n",
              "    <tr style=\"text-align: right;\">\n",
              "      <th></th>\n",
              "      <th>age</th>\n",
              "      <th>sex</th>\n",
              "      <th>weight</th>\n",
              "      <th>height</th>\n",
              "      <th>BMI</th>\n",
              "      <th>protein_concentration</th>\n",
              "      <th>RESPONSE</th>\n",
              "    </tr>\n",
              "  </thead>\n",
              "  <tbody>\n",
              "    <tr>\n",
              "      <th>0</th>\n",
              "      <td>0.214286</td>\n",
              "      <td>1</td>\n",
              "      <td>0.337780</td>\n",
              "      <td>0.313725</td>\n",
              "      <td>0.313123</td>\n",
              "      <td>0.643357</td>\n",
              "      <td>0</td>\n",
              "    </tr>\n",
              "    <tr>\n",
              "      <th>1</th>\n",
              "      <td>0.238095</td>\n",
              "      <td>1</td>\n",
              "      <td>0.219746</td>\n",
              "      <td>0.411765</td>\n",
              "      <td>0.171591</td>\n",
              "      <td>0.202797</td>\n",
              "      <td>1</td>\n",
              "    </tr>\n",
              "    <tr>\n",
              "      <th>3</th>\n",
              "      <td>0.523810</td>\n",
              "      <td>1</td>\n",
              "      <td>0.147170</td>\n",
              "      <td>0.137255</td>\n",
              "      <td>0.201814</td>\n",
              "      <td>0.230769</td>\n",
              "      <td>1</td>\n",
              "    </tr>\n",
              "    <tr>\n",
              "      <th>7</th>\n",
              "      <td>0.476190</td>\n",
              "      <td>0</td>\n",
              "      <td>0.415358</td>\n",
              "      <td>0.392157</td>\n",
              "      <td>0.347515</td>\n",
              "      <td>0.412587</td>\n",
              "      <td>0</td>\n",
              "    </tr>\n",
              "    <tr>\n",
              "      <th>8</th>\n",
              "      <td>0.833333</td>\n",
              "      <td>0</td>\n",
              "      <td>0.345766</td>\n",
              "      <td>0.490196</td>\n",
              "      <td>0.249146</td>\n",
              "      <td>0.986014</td>\n",
              "      <td>0</td>\n",
              "    </tr>\n",
              "    <tr>\n",
              "      <th>...</th>\n",
              "      <td>...</td>\n",
              "      <td>...</td>\n",
              "      <td>...</td>\n",
              "      <td>...</td>\n",
              "      <td>...</td>\n",
              "      <td>...</td>\n",
              "      <td>...</td>\n",
              "    </tr>\n",
              "    <tr>\n",
              "      <th>762</th>\n",
              "      <td>0.785714</td>\n",
              "      <td>1</td>\n",
              "      <td>0.140763</td>\n",
              "      <td>0.450980</td>\n",
              "      <td>0.092862</td>\n",
              "      <td>0.230769</td>\n",
              "      <td>1</td>\n",
              "    </tr>\n",
              "    <tr>\n",
              "      <th>764</th>\n",
              "      <td>0.666667</td>\n",
              "      <td>0</td>\n",
              "      <td>0.585257</td>\n",
              "      <td>0.647059</td>\n",
              "      <td>0.372611</td>\n",
              "      <td>0.461538</td>\n",
              "      <td>0</td>\n",
              "    </tr>\n",
              "    <tr>\n",
              "      <th>765</th>\n",
              "      <td>0.547619</td>\n",
              "      <td>0</td>\n",
              "      <td>0.305924</td>\n",
              "      <td>0.666667</td>\n",
              "      <td>0.159240</td>\n",
              "      <td>0.454545</td>\n",
              "      <td>0</td>\n",
              "    </tr>\n",
              "    <tr>\n",
              "      <th>766</th>\n",
              "      <td>0.380952</td>\n",
              "      <td>0</td>\n",
              "      <td>0.372971</td>\n",
              "      <td>0.568627</td>\n",
              "      <td>0.242164</td>\n",
              "      <td>0.489510</td>\n",
              "      <td>1</td>\n",
              "    </tr>\n",
              "    <tr>\n",
              "      <th>767</th>\n",
              "      <td>0.738095</td>\n",
              "      <td>1</td>\n",
              "      <td>0.299430</td>\n",
              "      <td>0.392157</td>\n",
              "      <td>0.247153</td>\n",
              "      <td>0.258741</td>\n",
              "      <td>1</td>\n",
              "    </tr>\n",
              "  </tbody>\n",
              "</table>\n",
              "<p>383 rows × 7 columns</p>\n",
              "</div>\n",
              "      <button class=\"colab-df-convert\" onclick=\"convertToInteractive('df-051db0c9-9840-4f91-b404-df28a76ee7bf')\"\n",
              "              title=\"Convert this dataframe to an interactive table.\"\n",
              "              style=\"display:none;\">\n",
              "        \n",
              "  <svg xmlns=\"http://www.w3.org/2000/svg\" height=\"24px\"viewBox=\"0 0 24 24\"\n",
              "       width=\"24px\">\n",
              "    <path d=\"M0 0h24v24H0V0z\" fill=\"none\"/>\n",
              "    <path d=\"M18.56 5.44l.94 2.06.94-2.06 2.06-.94-2.06-.94-.94-2.06-.94 2.06-2.06.94zm-11 1L8.5 8.5l.94-2.06 2.06-.94-2.06-.94L8.5 2.5l-.94 2.06-2.06.94zm10 10l.94 2.06.94-2.06 2.06-.94-2.06-.94-.94-2.06-.94 2.06-2.06.94z\"/><path d=\"M17.41 7.96l-1.37-1.37c-.4-.4-.92-.59-1.43-.59-.52 0-1.04.2-1.43.59L10.3 9.45l-7.72 7.72c-.78.78-.78 2.05 0 2.83L4 21.41c.39.39.9.59 1.41.59.51 0 1.02-.2 1.41-.59l7.78-7.78 2.81-2.81c.8-.78.8-2.07 0-2.86zM5.41 20L4 18.59l7.72-7.72 1.47 1.35L5.41 20z\"/>\n",
              "  </svg>\n",
              "      </button>\n",
              "      \n",
              "  <style>\n",
              "    .colab-df-container {\n",
              "      display:flex;\n",
              "      flex-wrap:wrap;\n",
              "      gap: 12px;\n",
              "    }\n",
              "\n",
              "    .colab-df-convert {\n",
              "      background-color: #E8F0FE;\n",
              "      border: none;\n",
              "      border-radius: 50%;\n",
              "      cursor: pointer;\n",
              "      display: none;\n",
              "      fill: #1967D2;\n",
              "      height: 32px;\n",
              "      padding: 0 0 0 0;\n",
              "      width: 32px;\n",
              "    }\n",
              "\n",
              "    .colab-df-convert:hover {\n",
              "      background-color: #E2EBFA;\n",
              "      box-shadow: 0px 1px 2px rgba(60, 64, 67, 0.3), 0px 1px 3px 1px rgba(60, 64, 67, 0.15);\n",
              "      fill: #174EA6;\n",
              "    }\n",
              "\n",
              "    [theme=dark] .colab-df-convert {\n",
              "      background-color: #3B4455;\n",
              "      fill: #D2E3FC;\n",
              "    }\n",
              "\n",
              "    [theme=dark] .colab-df-convert:hover {\n",
              "      background-color: #434B5C;\n",
              "      box-shadow: 0px 1px 3px 1px rgba(0, 0, 0, 0.15);\n",
              "      filter: drop-shadow(0px 1px 2px rgba(0, 0, 0, 0.3));\n",
              "      fill: #FFFFFF;\n",
              "    }\n",
              "  </style>\n",
              "\n",
              "      <script>\n",
              "        const buttonEl =\n",
              "          document.querySelector('#df-051db0c9-9840-4f91-b404-df28a76ee7bf button.colab-df-convert');\n",
              "        buttonEl.style.display =\n",
              "          google.colab.kernel.accessAllowed ? 'block' : 'none';\n",
              "\n",
              "        async function convertToInteractive(key) {\n",
              "          const element = document.querySelector('#df-051db0c9-9840-4f91-b404-df28a76ee7bf');\n",
              "          const dataTable =\n",
              "            await google.colab.kernel.invokeFunction('convertToInteractive',\n",
              "                                                     [key], {});\n",
              "          if (!dataTable) return;\n",
              "\n",
              "          const docLinkHtml = 'Like what you see? Visit the ' +\n",
              "            '<a target=\"_blank\" href=https://colab.research.google.com/notebooks/data_table.ipynb>data table notebook</a>'\n",
              "            + ' to learn more about interactive tables.';\n",
              "          element.innerHTML = '';\n",
              "          dataTable['output_type'] = 'display_data';\n",
              "          await google.colab.output.renderOutput(dataTable, element);\n",
              "          const docLink = document.createElement('div');\n",
              "          docLink.innerHTML = docLinkHtml;\n",
              "          element.appendChild(docLink);\n",
              "        }\n",
              "      </script>\n",
              "    </div>\n",
              "  </div>\n",
              "  "
            ]
          },
          "metadata": {},
          "execution_count": 50
        }
      ]
    },
    {
      "cell_type": "code",
      "source": [
        "df4['RESPONSE'].value_counts(normalize=True)"
      ],
      "metadata": {
        "id": "bvvhMfePnF_H",
        "colab": {
          "base_uri": "https://localhost:8080/"
        },
        "outputId": "6c764b70-e77d-4e4e-f736-a125895a42a5"
      },
      "execution_count": 51,
      "outputs": [
        {
          "output_type": "execute_result",
          "data": {
            "text/plain": [
              "1    0.548303\n",
              "0    0.451697\n",
              "Name: RESPONSE, dtype: float64"
            ]
          },
          "metadata": {},
          "execution_count": 51
        }
      ]
    },
    {
      "cell_type": "code",
      "source": [],
      "metadata": {
        "id": "5UewTstd1Jjz"
      },
      "execution_count": 51,
      "outputs": []
    },
    {
      "cell_type": "code",
      "source": [],
      "metadata": {
        "id": "RxWf7xCx1Jgw"
      },
      "execution_count": 51,
      "outputs": []
    },
    {
      "cell_type": "code",
      "source": [
        "plt.figure(figsize=(18,10))\n",
        "sns.boxplot(data=df4[['age','protein_concentration','weight']])"
      ],
      "metadata": {
        "colab": {
          "base_uri": "https://localhost:8080/",
          "height": 847
        },
        "id": "LqNt6Fw8pQjM",
        "outputId": "a2a2f39a-a544-4af1-f256-f1e1d6242c74"
      },
      "execution_count": 52,
      "outputs": [
        {
          "output_type": "execute_result",
          "data": {
            "text/plain": [
              "<Axes: >"
            ]
          },
          "metadata": {},
          "execution_count": 52
        },
        {
          "output_type": "display_data",
          "data": {
            "text/plain": [
              "<Figure size 1800x1000 with 1 Axes>"
            ],
            "image/png": "[encoded data removed]"
          },
          "metadata": {}
        }
      ]
    },
    {
      "cell_type": "code",
      "source": [],
      "metadata": {
        "id": "QN6YGwEG6xMa"
      },
      "execution_count": 52,
      "outputs": []
    },
    {
      "cell_type": "code",
      "source": [
        "# To split data into X and y variables before handling class imbalance using oversampling\n",
        "X = df4.drop('RESPONSE', axis=1)\n",
        "y = df4['RESPONSE']\n",
        "sampler = RandomOverSampler()\n",
        "X_resampled, y_resampled = sampler.fit_resample(X, y)\n",
        "\n"
      ],
      "metadata": {
        "id": "KjP8fn0zuhXu"
      },
      "execution_count": 53,
      "outputs": []
    },
    {
      "cell_type": "code",
      "source": [
        "X_resampled.shape"
      ],
      "metadata": {
        "colab": {
          "base_uri": "https://localhost:8080/"
        },
        "id": "TamwCEKQuhV7",
        "outputId": "bea77cb6-c392-4bde-d26e-b5c567f09977"
      },
      "execution_count": 54,
      "outputs": [
        {
          "output_type": "execute_result",
          "data": {
            "text/plain": [
              "(420, 6)"
            ]
          },
          "metadata": {},
          "execution_count": 54
        }
      ]
    },
    {
      "cell_type": "code",
      "source": [
        "y_resampled.shape"
      ],
      "metadata": {
        "colab": {
          "base_uri": "https://localhost:8080/"
        },
        "id": "KWVuUDxfnXLL",
        "outputId": "08fec2b3-d6c6-40f2-a20c-6362fd0c8dc2"
      },
      "execution_count": 55,
      "outputs": [
        {
          "output_type": "execute_result",
          "data": {
            "text/plain": [
              "(420,)"
            ]
          },
          "metadata": {},
          "execution_count": 55
        }
      ]
    },
    {
      "cell_type": "code",
      "source": [
        "\n",
        "y_resampled.value_counts(normalize=True)"
      ],
      "metadata": {
        "colab": {
          "base_uri": "https://localhost:8080/"
        },
        "id": "sWOFLEQGnXIQ",
        "outputId": "10472b73-4516-4ae8-925d-d0f2e2eae82a"
      },
      "execution_count": 56,
      "outputs": [
        {
          "output_type": "execute_result",
          "data": {
            "text/plain": [
              "0    0.5\n",
              "1    0.5\n",
              "Name: RESPONSE, dtype: float64"
            ]
          },
          "metadata": {},
          "execution_count": 56
        }
      ]
    },
    {
      "cell_type": "code",
      "source": [
        "\n",
        "plt.figure(figsize=(15,8))\n",
        "plt.title('Class Balance', fontsize=15)\n",
        "sns.countplot(x= y_resampled)"
      ],
      "metadata": {
        "colab": {
          "base_uri": "https://localhost:8080/",
          "height": 737
        },
        "id": "DE14tjy77j0l",
        "outputId": "021830c8-2750-4162-bb1d-5b38d2f79587"
      },
      "execution_count": 57,
      "outputs": [
        {
          "output_type": "execute_result",
          "data": {
            "text/plain": [
              "<Axes: title={'center': 'Class Balance'}, xlabel='RESPONSE', ylabel='count'>"
            ]
          },
          "metadata": {},
          "execution_count": 57
        },
        {
          "output_type": "display_data",
          "data": {
            "text/plain": [
              "<Figure size 1500x800 with 1 Axes>"
            ],
            "image/png": "[encoded data removed]"
          },
          "metadata": {}
        }
      ]
    },
    {
      "cell_type": "code",
      "source": [
        "\n"
      ],
      "metadata": {
        "id": "ohIaMQp2nvJK"
      },
      "execution_count": 57,
      "outputs": []
    },
    {
      "cell_type": "code",
      "source": [
        "X_resampled.head()"
      ],
      "metadata": {
        "colab": {
          "base_uri": "https://localhost:8080/",
          "height": 206
        },
        "id": "nGwbOFrSnvGW",
        "outputId": "03acd492-5652-4d53-dc29-f74551c7adde"
      },
      "execution_count": 58,
      "outputs": [
        {
          "output_type": "execute_result",
          "data": {
            "text/plain": [
              "        age  sex    weight    height       BMI  protein_concentration\n",
              "0  0.214286    1  0.337780  0.313725  0.313123               0.643357\n",
              "1  0.238095    1  0.219746  0.411765  0.171591               0.202797\n",
              "2  0.523810    1  0.147170  0.137255  0.201814               0.230769\n",
              "3  0.476190    0  0.415358  0.392157  0.347515               0.412587\n",
              "4  0.833333    0  0.345766  0.490196  0.249146               0.986014"
            ],
            "text/html": [
              "\n",
              "  <div id=\"df-2a46f350-36bd-4634-b1b7-db9d403f35ef\">\n",
              "    <div class=\"colab-df-container\">\n",
              "      <div>\n",
              "<style scoped>\n",
              "    .dataframe tbody tr th:only-of-type {\n",
              "        vertical-align: middle;\n",
              "    }\n",
              "\n",
              "    .dataframe tbody tr th {\n",
              "        vertical-align: top;\n",
              "    }\n",
              "\n",
              "    .dataframe thead th {\n",
              "        text-align: right;\n",
              "    }\n",
              "</style>\n",
              "<table border=\"1\" class=\"dataframe\">\n",
              "  <thead>\n",
              "    <tr style=\"text-align: right;\">\n",
              "      <th></th>\n",
              "      <th>age</th>\n",
              "      <th>sex</th>\n",
              "      <th>weight</th>\n",
              "      <th>height</th>\n",
              "      <th>BMI</th>\n",
              "      <th>protein_concentration</th>\n",
              "    </tr>\n",
              "  </thead>\n",
              "  <tbody>\n",
              "    <tr>\n",
              "      <th>0</th>\n",
              "      <td>0.214286</td>\n",
              "      <td>1</td>\n",
              "      <td>0.337780</td>\n",
              "      <td>0.313725</td>\n",
              "      <td>0.313123</td>\n",
              "      <td>0.643357</td>\n",
              "    </tr>\n",
              "    <tr>\n",
              "      <th>1</th>\n",
              "      <td>0.238095</td>\n",
              "      <td>1</td>\n",
              "      <td>0.219746</td>\n",
              "      <td>0.411765</td>\n",
              "      <td>0.171591</td>\n",
              "      <td>0.202797</td>\n",
              "    </tr>\n",
              "    <tr>\n",
              "      <th>2</th>\n",
              "      <td>0.523810</td>\n",
              "      <td>1</td>\n",
              "      <td>0.147170</td>\n",
              "      <td>0.137255</td>\n",
              "      <td>0.201814</td>\n",
              "      <td>0.230769</td>\n",
              "    </tr>\n",
              "    <tr>\n",
              "      <th>3</th>\n",
              "      <td>0.476190</td>\n",
              "      <td>0</td>\n",
              "      <td>0.415358</td>\n",
              "      <td>0.392157</td>\n",
              "      <td>0.347515</td>\n",
              "      <td>0.412587</td>\n",
              "    </tr>\n",
              "    <tr>\n",
              "      <th>4</th>\n",
              "      <td>0.833333</td>\n",
              "      <td>0</td>\n",
              "      <td>0.345766</td>\n",
              "      <td>0.490196</td>\n",
              "      <td>0.249146</td>\n",
              "      <td>0.986014</td>\n",
              "    </tr>\n",
              "  </tbody>\n",
              "</table>\n",
              "</div>\n",
              "      <button class=\"colab-df-convert\" onclick=\"convertToInteractive('df-2a46f350-36bd-4634-b1b7-db9d403f35ef')\"\n",
              "              title=\"Convert this dataframe to an interactive table.\"\n",
              "              style=\"display:none;\">\n",
              "        \n",
              "  <svg xmlns=\"http://www.w3.org/2000/svg\" height=\"24px\"viewBox=\"0 0 24 24\"\n",
              "       width=\"24px\">\n",
              "    <path d=\"M0 0h24v24H0V0z\" fill=\"none\"/>\n",
              "    <path d=\"M18.56 5.44l.94 2.06.94-2.06 2.06-.94-2.06-.94-.94-2.06-.94 2.06-2.06.94zm-11 1L8.5 8.5l.94-2.06 2.06-.94-2.06-.94L8.5 2.5l-.94 2.06-2.06.94zm10 10l.94 2.06.94-2.06 2.06-.94-2.06-.94-.94-2.06-.94 2.06-2.06.94z\"/><path d=\"M17.41 7.96l-1.37-1.37c-.4-.4-.92-.59-1.43-.59-.52 0-1.04.2-1.43.59L10.3 9.45l-7.72 7.72c-.78.78-.78 2.05 0 2.83L4 21.41c.39.39.9.59 1.41.59.51 0 1.02-.2 1.41-.59l7.78-7.78 2.81-2.81c.8-.78.8-2.07 0-2.86zM5.41 20L4 18.59l7.72-7.72 1.47 1.35L5.41 20z\"/>\n",
              "  </svg>\n",
              "      </button>\n",
              "      \n",
              "  <style>\n",
              "    .colab-df-container {\n",
              "      display:flex;\n",
              "      flex-wrap:wrap;\n",
              "      gap: 12px;\n",
              "    }\n",
              "\n",
              "    .colab-df-convert {\n",
              "      background-color: #E8F0FE;\n",
              "      border: none;\n",
              "      border-radius: 50%;\n",
              "      cursor: pointer;\n",
              "      display: none;\n",
              "      fill: #1967D2;\n",
              "      height: 32px;\n",
              "      padding: 0 0 0 0;\n",
              "      width: 32px;\n",
              "    }\n",
              "\n",
              "    .colab-df-convert:hover {\n",
              "      background-color: #E2EBFA;\n",
              "      box-shadow: 0px 1px 2px rgba(60, 64, 67, 0.3), 0px 1px 3px 1px rgba(60, 64, 67, 0.15);\n",
              "      fill: #174EA6;\n",
              "    }\n",
              "\n",
              "    [theme=dark] .colab-df-convert {\n",
              "      background-color: #3B4455;\n",
              "      fill: #D2E3FC;\n",
              "    }\n",
              "\n",
              "    [theme=dark] .colab-df-convert:hover {\n",
              "      background-color: #434B5C;\n",
              "      box-shadow: 0px 1px 3px 1px rgba(0, 0, 0, 0.15);\n",
              "      filter: drop-shadow(0px 1px 2px rgba(0, 0, 0, 0.3));\n",
              "      fill: #FFFFFF;\n",
              "    }\n",
              "  </style>\n",
              "\n",
              "      <script>\n",
              "        const buttonEl =\n",
              "          document.querySelector('#df-2a46f350-36bd-4634-b1b7-db9d403f35ef button.colab-df-convert');\n",
              "        buttonEl.style.display =\n",
              "          google.colab.kernel.accessAllowed ? 'block' : 'none';\n",
              "\n",
              "        async function convertToInteractive(key) {\n",
              "          const element = document.querySelector('#df-2a46f350-36bd-4634-b1b7-db9d403f35ef');\n",
              "          const dataTable =\n",
              "            await google.colab.kernel.invokeFunction('convertToInteractive',\n",
              "                                                     [key], {});\n",
              "          if (!dataTable) return;\n",
              "\n",
              "          const docLinkHtml = 'Like what you see? Visit the ' +\n",
              "            '<a target=\"_blank\" href=https://colab.research.google.com/notebooks/data_table.ipynb>data table notebook</a>'\n",
              "            + ' to learn more about interactive tables.';\n",
              "          element.innerHTML = '';\n",
              "          dataTable['output_type'] = 'display_data';\n",
              "          await google.colab.output.renderOutput(dataTable, element);\n",
              "          const docLink = document.createElement('div');\n",
              "          docLink.innerHTML = docLinkHtml;\n",
              "          element.appendChild(docLink);\n",
              "        }\n",
              "      </script>\n",
              "    </div>\n",
              "  </div>\n",
              "  "
            ]
          },
          "metadata": {},
          "execution_count": 58
        }
      ]
    },
    {
      "cell_type": "code",
      "source": [
        "y_resampled.tail()"
      ],
      "metadata": {
        "colab": {
          "base_uri": "https://localhost:8080/"
        },
        "id": "4ddySd4knvEB",
        "outputId": "e1167e83-741d-4742-ebee-68028229fa69"
      },
      "execution_count": 59,
      "outputs": [
        {
          "output_type": "execute_result",
          "data": {
            "text/plain": [
              "415    0\n",
              "416    0\n",
              "417    0\n",
              "418    0\n",
              "419    0\n",
              "Name: RESPONSE, dtype: int64"
            ]
          },
          "metadata": {},
          "execution_count": 59
        }
      ]
    },
    {
      "cell_type": "code",
      "source": [
        "\n",
        "\n",
        "\n"
      ],
      "metadata": {
        "id": "llWQmlSlnvCG"
      },
      "execution_count": 59,
      "outputs": []
    },
    {
      "cell_type": "code",
      "source": [
        "y_resampled.tail()"
      ],
      "metadata": {
        "colab": {
          "base_uri": "https://localhost:8080/"
        },
        "id": "-i2pJOjvnu-9",
        "outputId": "4f841990-1813-4e32-e434-6f5e81a40464"
      },
      "execution_count": 60,
      "outputs": [
        {
          "output_type": "execute_result",
          "data": {
            "text/plain": [
              "415    0\n",
              "416    0\n",
              "417    0\n",
              "418    0\n",
              "419    0\n",
              "Name: RESPONSE, dtype: int64"
            ]
          },
          "metadata": {},
          "execution_count": 60
        }
      ]
    },
    {
      "cell_type": "code",
      "source": [
        "X = X_resampled"
      ],
      "metadata": {
        "id": "Oqy_n7xRnu80"
      },
      "execution_count": 61,
      "outputs": []
    },
    {
      "cell_type": "code",
      "source": [
        "y = y_resampled\n"
      ],
      "metadata": {
        "id": "-uHIdMlxnu5o"
      },
      "execution_count": 62,
      "outputs": []
    },
    {
      "cell_type": "code",
      "source": [
        "corr = df.corr()\n",
        "corr"
      ],
      "metadata": {
        "colab": {
          "base_uri": "https://localhost:8080/",
          "height": 206
        },
        "id": "7kusuTShv1eh",
        "outputId": "67a56889-1760-43eb-a7e5-f192ba1d7e87"
      },
      "execution_count": 63,
      "outputs": [
        {
          "output_type": "execute_result",
          "data": {
            "text/plain": [
              "                            age    weight    height       BMI  \\\n",
              "age                    1.000000  0.028393  0.074573  0.000038   \n",
              "weight                 0.028393  1.000000  0.460800  0.870479   \n",
              "height                 0.074573  0.460800  1.000000 -0.022837   \n",
              "BMI                    0.000038  0.870479 -0.022837  1.000000   \n",
              "protein_concentration -0.012222  0.201731 -0.016973  0.232242   \n",
              "\n",
              "                       protein_concentration  \n",
              "age                                -0.012222  \n",
              "weight                              0.201731  \n",
              "height                             -0.016973  \n",
              "BMI                                 0.232242  \n",
              "protein_concentration               1.000000  "
            ],
            "text/html": [
              "\n",
              "  <div id=\"df-76d593df-1479-4939-8d93-310b339e7d48\">\n",
              "    <div class=\"colab-df-container\">\n",
              "      <div>\n",
              "<style scoped>\n",
              "    .dataframe tbody tr th:only-of-type {\n",
              "        vertical-align: middle;\n",
              "    }\n",
              "\n",
              "    .dataframe tbody tr th {\n",
              "        vertical-align: top;\n",
              "    }\n",
              "\n",
              "    .dataframe thead th {\n",
              "        text-align: right;\n",
              "    }\n",
              "</style>\n",
              "<table border=\"1\" class=\"dataframe\">\n",
              "  <thead>\n",
              "    <tr style=\"text-align: right;\">\n",
              "      <th></th>\n",
              "      <th>age</th>\n",
              "      <th>weight</th>\n",
              "      <th>height</th>\n",
              "      <th>BMI</th>\n",
              "      <th>protein_concentration</th>\n",
              "    </tr>\n",
              "  </thead>\n",
              "  <tbody>\n",
              "    <tr>\n",
              "      <th>age</th>\n",
              "      <td>1.000000</td>\n",
              "      <td>0.028393</td>\n",
              "      <td>0.074573</td>\n",
              "      <td>0.000038</td>\n",
              "      <td>-0.012222</td>\n",
              "    </tr>\n",
              "    <tr>\n",
              "      <th>weight</th>\n",
              "      <td>0.028393</td>\n",
              "      <td>1.000000</td>\n",
              "      <td>0.460800</td>\n",
              "      <td>0.870479</td>\n",
              "      <td>0.201731</td>\n",
              "    </tr>\n",
              "    <tr>\n",
              "      <th>height</th>\n",
              "      <td>0.074573</td>\n",
              "      <td>0.460800</td>\n",
              "      <td>1.000000</td>\n",
              "      <td>-0.022837</td>\n",
              "      <td>-0.016973</td>\n",
              "    </tr>\n",
              "    <tr>\n",
              "      <th>BMI</th>\n",
              "      <td>0.000038</td>\n",
              "      <td>0.870479</td>\n",
              "      <td>-0.022837</td>\n",
              "      <td>1.000000</td>\n",
              "      <td>0.232242</td>\n",
              "    </tr>\n",
              "    <tr>\n",
              "      <th>protein_concentration</th>\n",
              "      <td>-0.012222</td>\n",
              "      <td>0.201731</td>\n",
              "      <td>-0.016973</td>\n",
              "      <td>0.232242</td>\n",
              "      <td>1.000000</td>\n",
              "    </tr>\n",
              "  </tbody>\n",
              "</table>\n",
              "</div>\n",
              "      <button class=\"colab-df-convert\" onclick=\"convertToInteractive('df-76d593df-1479-4939-8d93-310b339e7d48')\"\n",
              "              title=\"Convert this dataframe to an interactive table.\"\n",
              "              style=\"display:none;\">\n",
              "        \n",
              "  <svg xmlns=\"http://www.w3.org/2000/svg\" height=\"24px\"viewBox=\"0 0 24 24\"\n",
              "       width=\"24px\">\n",
              "    <path d=\"M0 0h24v24H0V0z\" fill=\"none\"/>\n",
              "    <path d=\"M18.56 5.44l.94 2.06.94-2.06 2.06-.94-2.06-.94-.94-2.06-.94 2.06-2.06.94zm-11 1L8.5 8.5l.94-2.06 2.06-.94-2.06-.94L8.5 2.5l-.94 2.06-2.06.94zm10 10l.94 2.06.94-2.06 2.06-.94-2.06-.94-.94-2.06-.94 2.06-2.06.94z\"/><path d=\"M17.41 7.96l-1.37-1.37c-.4-.4-.92-.59-1.43-.59-.52 0-1.04.2-1.43.59L10.3 9.45l-7.72 7.72c-.78.78-.78 2.05 0 2.83L4 21.41c.39.39.9.59 1.41.59.51 0 1.02-.2 1.41-.59l7.78-7.78 2.81-2.81c.8-.78.8-2.07 0-2.86zM5.41 20L4 18.59l7.72-7.72 1.47 1.35L5.41 20z\"/>\n",
              "  </svg>\n",
              "      </button>\n",
              "      \n",
              "  <style>\n",
              "    .colab-df-container {\n",
              "      display:flex;\n",
              "      flex-wrap:wrap;\n",
              "      gap: 12px;\n",
              "    }\n",
              "\n",
              "    .colab-df-convert {\n",
              "      background-color: #E8F0FE;\n",
              "      border: none;\n",
              "      border-radius: 50%;\n",
              "      cursor: pointer;\n",
              "      display: none;\n",
              "      fill: #1967D2;\n",
              "      height: 32px;\n",
              "      padding: 0 0 0 0;\n",
              "      width: 32px;\n",
              "    }\n",
              "\n",
              "    .colab-df-convert:hover {\n",
              "      background-color: #E2EBFA;\n",
              "      box-shadow: 0px 1px 2px rgba(60, 64, 67, 0.3), 0px 1px 3px 1px rgba(60, 64, 67, 0.15);\n",
              "      fill: #174EA6;\n",
              "    }\n",
              "\n",
              "    [theme=dark] .colab-df-convert {\n",
              "      background-color: #3B4455;\n",
              "      fill: #D2E3FC;\n",
              "    }\n",
              "\n",
              "    [theme=dark] .colab-df-convert:hover {\n",
              "      background-color: #434B5C;\n",
              "      box-shadow: 0px 1px 3px 1px rgba(0, 0, 0, 0.15);\n",
              "      filter: drop-shadow(0px 1px 2px rgba(0, 0, 0, 0.3));\n",
              "      fill: #FFFFFF;\n",
              "    }\n",
              "  </style>\n",
              "\n",
              "      <script>\n",
              "        const buttonEl =\n",
              "          document.querySelector('#df-76d593df-1479-4939-8d93-310b339e7d48 button.colab-df-convert');\n",
              "        buttonEl.style.display =\n",
              "          google.colab.kernel.accessAllowed ? 'block' : 'none';\n",
              "\n",
              "        async function convertToInteractive(key) {\n",
              "          const element = document.querySelector('#df-76d593df-1479-4939-8d93-310b339e7d48');\n",
              "          const dataTable =\n",
              "            await google.colab.kernel.invokeFunction('convertToInteractive',\n",
              "                                                     [key], {});\n",
              "          if (!dataTable) return;\n",
              "\n",
              "          const docLinkHtml = 'Like what you see? Visit the ' +\n",
              "            '<a target=\"_blank\" href=https://colab.research.google.com/notebooks/data_table.ipynb>data table notebook</a>'\n",
              "            + ' to learn more about interactive tables.';\n",
              "          element.innerHTML = '';\n",
              "          dataTable['output_type'] = 'display_data';\n",
              "          await google.colab.output.renderOutput(dataTable, element);\n",
              "          const docLink = document.createElement('div');\n",
              "          docLink.innerHTML = docLinkHtml;\n",
              "          element.appendChild(docLink);\n",
              "        }\n",
              "      </script>\n",
              "    </div>\n",
              "  </div>\n",
              "  "
            ]
          },
          "metadata": {},
          "execution_count": 63
        }
      ]
    },
    {
      "cell_type": "code",
      "source": [],
      "metadata": {
        "id": "UcrKgb_rvSPa"
      },
      "execution_count": 63,
      "outputs": []
    },
    {
      "cell_type": "code",
      "source": [
        "# Instantiate SelectKBest with f_classif as the scoring function\n",
        "selector = SelectKBest(score_func=f_classif, k=5)\n",
        "\n",
        "# Fit the selector to the data\n",
        "selector.fit(X_resampled, y_resampled)\n",
        "\n",
        "# Get the indices of the selected features\n",
        "selected_features_indices = selector.get_support(indices=True)\n",
        "\n",
        "# Get the names of the selected features\n",
        "selected_features_names = X_resampled.columns[selected_features_indices]\n",
        "\n",
        "# Print the names of the selected features\n",
        "print(selected_features_names)\n"
      ],
      "metadata": {
        "colab": {
          "base_uri": "https://localhost:8080/"
        },
        "id": "DeyFiLTSwNmw",
        "outputId": "9510bc64-c43f-479a-da22-1420b4a8227b"
      },
      "execution_count": 64,
      "outputs": [
        {
          "output_type": "stream",
          "name": "stdout",
          "text": [
            "Index(['age', 'weight', 'height', 'BMI', 'protein_concentration'], dtype='object')\n"
          ]
        }
      ]
    },
    {
      "cell_type": "code",
      "source": [
        "\n",
        "# Display the scores of the top 5 features\n",
        "scores = selector.scores_\n",
        "top_k_scores = sorted(scores, reverse=True)[:5]\n",
        "top_k_indices = np.argsort(scores)[::-1][:5]\n",
        "\n",
        "print(\"Top 5 feature scores:\")\n",
        "for i in range(len(top_k_scores)):\n",
        "    print(\"Feature {}: Score = {:.2f}\".format(top_k_indices[i], top_k_scores[i]))\n"
      ],
      "metadata": {
        "id": "VSEFuCKEvSKB",
        "colab": {
          "base_uri": "https://localhost:8080/"
        },
        "outputId": "4eb10eaf-6dfe-4b58-8cb2-a5f2f1034318"
      },
      "execution_count": 65,
      "outputs": [
        {
          "output_type": "stream",
          "name": "stdout",
          "text": [
            "Top 5 feature scores:\n",
            "Feature 5: Score = 328.48\n",
            "Feature 0: Score = 1.45\n",
            "Feature 3: Score = 0.33\n",
            "Feature 4: Score = 0.06\n",
            "Feature 2: Score = 0.00\n"
          ]
        }
      ]
    },
    {
      "cell_type": "code",
      "source": [],
      "metadata": {
        "id": "yDb-9Ptoi_RD"
      },
      "execution_count": 65,
      "outputs": []
    },
    {
      "cell_type": "code",
      "source": [
        "\n",
        "\n",
        "\n",
        "\n",
        "# Get the names and scores of the top 10 features\n",
        "feature_names = df4.drop('RESPONSE', axis=1).columns\n",
        "top_scores = selector.scores_.argsort()[-5:][::-1]\n",
        "top_features = feature_names[top_scores]\n",
        "\n",
        "# Print the names and scores of the top 10 features\n",
        "for i, feature in enumerate(top_features):\n",
        "    print(\"{}. {} ({:.2f})\".format(i+1, feature, selector.scores_[top_scores][i]))\n",
        "\n",
        "# Create a bar plot of the top 10 features and their scores\n",
        "plt.figure(figsize=(20,8))\n",
        "sns.set(font_scale=1.5)\n",
        "plt.bar(range(len(top_scores)), selector.scores_[top_scores])\n",
        "plt.xticks(range(len(top_scores)), top_features, rotation='horizontal')\n",
        "plt.xlabel(\"Feature\")\n",
        "plt.ylabel(\"Score\")\n",
        "plt.title(\"Top 5 Features\")\n",
        "plt.show()\n"
      ],
      "metadata": {
        "colab": {
          "base_uri": "https://localhost:8080/",
          "height": 833
        },
        "id": "EFw8sfvmlBZX",
        "outputId": "f8299877-351d-49a5-9a36-a8a5a6413f2e"
      },
      "execution_count": 66,
      "outputs": [
        {
          "output_type": "stream",
          "name": "stdout",
          "text": [
            "1. protein_concentration (328.48)\n",
            "2. age (1.45)\n",
            "3. height (0.33)\n",
            "4. BMI (0.06)\n",
            "5. weight (0.00)\n"
          ]
        },
        {
          "output_type": "display_data",
          "data": {
            "text/plain": [
              "<Figure size 2000x800 with 1 Axes>"
            ],
            "image/png": "[encoded data removed]"
          },
          "metadata": {}
        }
      ]
    },
    {
      "cell_type": "code",
      "source": [],
      "metadata": {
        "id": "Nd1T22WEhlpY"
      },
      "execution_count": 66,
      "outputs": []
    },
    {
      "cell_type": "code",
      "source": [
        "# select the top K features using f_classic\n",
        "kbest = SelectKBest(score_func=f_classif, k='all')\n",
        "X_resampled = kbest.fit_transform(X_resampled, y_resampled)\n",
        "\n",
        "# split the data into training and testing sets\n",
        "X_train, X_test, y_train, y_test = train_test_split(X_resampled, y_resampled, test_size=0.3,random_state = 30)\n"
      ],
      "metadata": {
        "id": "MQtHvu1jnscc"
      },
      "execution_count": 67,
      "outputs": []
    },
    {
      "cell_type": "code",
      "source": [
        "\n",
        "\n",
        "\n"
      ],
      "metadata": {
        "id": "C36J4rHG329k"
      },
      "execution_count": 67,
      "outputs": []
    },
    {
      "cell_type": "code",
      "source": [
        "\n",
        "\n",
        "# train a decision tree classifier on the data\n",
        "clf = DecisionTreeClassifier()\n",
        "\n",
        "#clf = RandomForestClassifier()\n",
        "\n",
        "clf.fit(X_train, y_train)\n",
        "\n",
        "# test the classifier on the test set and print the classification report\n",
        "y_pred = clf.predict(X_test)\n",
        "print(classification_report(y_test, y_pred))\n"
      ],
      "metadata": {
        "colab": {
          "base_uri": "https://localhost:8080/"
        },
        "id": "5DBiIu-7uhRS",
        "outputId": "eaf2caf6-9db0-49dd-a48a-dabb28de61d3"
      },
      "execution_count": 68,
      "outputs": [
        {
          "output_type": "stream",
          "name": "stdout",
          "text": [
            "              precision    recall  f1-score   support\n",
            "\n",
            "           0       0.76      0.77      0.77        66\n",
            "           1       0.75      0.73      0.74        60\n",
            "\n",
            "    accuracy                           0.75       126\n",
            "   macro avg       0.75      0.75      0.75       126\n",
            "weighted avg       0.75      0.75      0.75       126\n",
            "\n"
          ]
        }
      ]
    },
    {
      "cell_type": "code",
      "source": [
        "\n",
        "Accuracy = metrics.accuracy_score(y_test, y_pred)\n",
        "print('Accuracy score:%.2f\\n\\n'%(Accuracy))\n",
        "conf_matrix = metrics.confusion_matrix(y_test, y_pred)\n",
        "print('The confusion matrix is:')\n",
        "print(conf_matrix,'\\n\\n')\n",
        "print('---------------------')\n",
        "result = metrics.classification_report(y_test, y_pred)\n",
        "print('Classification Report:\\n')\n",
        "print(result)"
      ],
      "metadata": {
        "colab": {
          "base_uri": "https://localhost:8080/"
        },
        "id": "eLeWX9bcmaJA",
        "outputId": "ddf37916-662f-4eeb-92f9-e84e17fe1ca9"
      },
      "execution_count": 69,
      "outputs": [
        {
          "output_type": "stream",
          "name": "stdout",
          "text": [
            "Accuracy score:0.75\n",
            "\n",
            "\n",
            "The confusion matrix is:\n",
            "[[51 15]\n",
            " [16 44]] \n",
            "\n",
            "\n",
            "---------------------\n",
            "Classification Report:\n",
            "\n",
            "              precision    recall  f1-score   support\n",
            "\n",
            "           0       0.76      0.77      0.77        66\n",
            "           1       0.75      0.73      0.74        60\n",
            "\n",
            "    accuracy                           0.75       126\n",
            "   macro avg       0.75      0.75      0.75       126\n",
            "weighted avg       0.75      0.75      0.75       126\n",
            "\n"
          ]
        }
      ]
    },
    {
      "cell_type": "code",
      "source": [
        "plt.figure(figsize=(15,8))\n",
        "zx = sns. heatmap(conf_matrix, cmap ='flare', annot_kws={\"size\": 15}, annot= True, fmt = 'd')\n",
        "plt.title('Confusion Matrix using Decision Tree Classifier ', fontsize= 15)\n",
        "plt.xlabel('Predicted Ouput', fontsize =15)\n",
        "plt.ylabel('Actual Output', fontsize =15)\n",
        "plt.show()"
      ],
      "metadata": {
        "colab": {
          "base_uri": "https://localhost:8080/",
          "height": 739
        },
        "id": "bYfJCZrqmaFT",
        "outputId": "775b0e26-3a91-4b2f-a233-520f8facc81d"
      },
      "execution_count": 70,
      "outputs": [
        {
          "output_type": "display_data",
          "data": {
            "text/plain": [
              "<Figure size 1500x800 with 2 Axes>"
            ],
            "image/png": "[encoded data removed]"
          },
          "metadata": {}
        }
      ]
    },
    {
      "cell_type": "code",
      "source": [
        "\n",
        "# Define the Decision Tree classifier\n",
        "dt = DecisionTreeClassifier()\n",
        "\n",
        "# Define the hyperparameters to tune\n",
        "param_grid = {'max_depth': [12, 15, 20],\n",
        "              'min_samples_split': [2,3, 4, 6, 8,],\n",
        "              'min_samples_leaf': [1, 2, 3, 4, 5]}\n",
        "\n",
        "# Perform hyperparameter tuning using GridSearchCV\n",
        "grid_search = GridSearchCV(estimator=dt, param_grid=param_grid, cv=5, verbose=0)\n",
        "grid_search.fit(X, y)\n",
        "\n",
        "# Print the results\n",
        "print(\"Best accuracy score: {:.2f}\".format(grid_search.best_score_))\n",
        "print(\"Best parameters: {}\".format(grid_search.best_params_))\n"
      ],
      "metadata": {
        "colab": {
          "base_uri": "https://localhost:8080/"
        },
        "id": "Aos69xXr8W3q",
        "outputId": "6166cd3b-ba17-42ed-d67b-9d1d598117e7"
      },
      "execution_count": 71,
      "outputs": [
        {
          "output_type": "stream",
          "name": "stdout",
          "text": [
            "Best accuracy score: 0.80\n",
            "Best parameters: {'max_depth': 12, 'min_samples_leaf': 1, 'min_samples_split': 4}\n"
          ]
        }
      ]
    },
    {
      "cell_type": "code",
      "source": [
        "\n",
        "\n",
        "# Using best hypeparameter\n",
        "\n",
        "\n",
        "# train a decision tree classifier on the data\n",
        "clf = DecisionTreeClassifier(max_depth= 20, min_samples_leaf = 1, min_samples_split= 2)\n",
        "\n",
        "#clf = RandomForestClassifier()\n",
        "\n",
        "clf.fit(X_train, y_train)\n",
        "\n",
        "# test the classifier on the test set and print the classification report\n",
        "y_pred = clf.predict(X_test)\n",
        "print(classification_report(y_test, y_pred))"
      ],
      "metadata": {
        "id": "KDBDZ-DjR75L",
        "colab": {
          "base_uri": "https://localhost:8080/"
        },
        "outputId": "100f4872-7228-4ee0-b9b3-6dc5b2357b16"
      },
      "execution_count": 72,
      "outputs": [
        {
          "output_type": "stream",
          "name": "stdout",
          "text": [
            "              precision    recall  f1-score   support\n",
            "\n",
            "           0       0.69      0.76      0.72        66\n",
            "           1       0.70      0.63      0.67        60\n",
            "\n",
            "    accuracy                           0.70       126\n",
            "   macro avg       0.70      0.70      0.70       126\n",
            "weighted avg       0.70      0.70      0.70       126\n",
            "\n"
          ]
        }
      ]
    },
    {
      "cell_type": "code",
      "source": [
        "\n",
        "Accuracy = metrics.accuracy_score(y_test, y_pred)\n",
        "print('Accuracy score:%.2f\\n\\n'%(Accuracy))\n",
        "conf_matrix = metrics.confusion_matrix(y_test, y_pred)\n",
        "print('The confusion matrix is:')\n",
        "print(conf_matrix,'\\n\\n')\n",
        "print('---------------------')\n",
        "result = metrics.classification_report(y_test, y_pred)\n",
        "print('Classification Report:\\n')\n",
        "print(result)"
      ],
      "metadata": {
        "colab": {
          "base_uri": "https://localhost:8080/"
        },
        "id": "edHyyy7zBBf3",
        "outputId": "465fd001-2488-4c1e-9648-1a998e630021"
      },
      "execution_count": 73,
      "outputs": [
        {
          "output_type": "stream",
          "name": "stdout",
          "text": [
            "Accuracy score:0.70\n",
            "\n",
            "\n",
            "The confusion matrix is:\n",
            "[[50 16]\n",
            " [22 38]] \n",
            "\n",
            "\n",
            "---------------------\n",
            "Classification Report:\n",
            "\n",
            "              precision    recall  f1-score   support\n",
            "\n",
            "           0       0.69      0.76      0.72        66\n",
            "           1       0.70      0.63      0.67        60\n",
            "\n",
            "    accuracy                           0.70       126\n",
            "   macro avg       0.70      0.70      0.70       126\n",
            "weighted avg       0.70      0.70      0.70       126\n",
            "\n"
          ]
        }
      ]
    },
    {
      "cell_type": "code",
      "source": [
        "plt.figure(figsize=(15,8))\n",
        "zx = sns. heatmap(conf_matrix, cmap ='flare', annot_kws={\"size\": 15}, annot= True, fmt = 'd')\n",
        "plt.title('Confusion Matrix using Decision Tree Classifier ', fontsize= 15)\n",
        "plt.xlabel('Predicted Ouput', fontsize =15)\n",
        "plt.ylabel('Actual Output', fontsize =15)\n",
        "plt.show()"
      ],
      "metadata": {
        "colab": {
          "base_uri": "https://localhost:8080/",
          "height": 739
        },
        "id": "xbzhECV6BBcp",
        "outputId": "de81ad2d-9bc0-41fe-bce1-9422c4bf224d"
      },
      "execution_count": 74,
      "outputs": [
        {
          "output_type": "display_data",
          "data": {
            "text/plain": [
              "<Figure size 1500x800 with 2 Axes>"
            ],
            "image/png": "[encoded data removed]"
          },
          "metadata": {}
        }
      ]
    },
    {
      "cell_type": "code",
      "source": [],
      "metadata": {
        "id": "V-iUls51BBZG"
      },
      "execution_count": 74,
      "outputs": []
    },
    {
      "cell_type": "code",
      "source": [],
      "metadata": {
        "id": "GEFtbGzFVDny"
      },
      "execution_count": 74,
      "outputs": []
    },
    {
      "cell_type": "code",
      "source": [
        "#Using RandomForest\n",
        "\n",
        "# train a decision tree classifier on the data\n",
        "#clf = DecisionTreeClassifier()\n",
        "\n",
        "clf = RandomForestClassifier()\n",
        "\n",
        "clf.fit(X_train, y_train)\n",
        "\n",
        "# test the classifier on the test set and print the classification report\n",
        "y_pred = clf.predict(X_test)\n",
        "print(classification_report(y_test, y_pred))"
      ],
      "metadata": {
        "colab": {
          "base_uri": "https://localhost:8080/"
        },
        "id": "WWs_q-h1UNgl",
        "outputId": "7f44a865-5d5f-4850-ba84-16c18dc9cae2"
      },
      "execution_count": 75,
      "outputs": [
        {
          "output_type": "stream",
          "name": "stdout",
          "text": [
            "              precision    recall  f1-score   support\n",
            "\n",
            "           0       0.85      0.83      0.84        66\n",
            "           1       0.82      0.83      0.83        60\n",
            "\n",
            "    accuracy                           0.83       126\n",
            "   macro avg       0.83      0.83      0.83       126\n",
            "weighted avg       0.83      0.83      0.83       126\n",
            "\n"
          ]
        }
      ]
    },
    {
      "cell_type": "code",
      "source": [],
      "metadata": {
        "id": "6KC5lEeFXKbl"
      },
      "execution_count": 75,
      "outputs": []
    },
    {
      "cell_type": "code",
      "source": [
        "\n",
        "Accuracy = metrics.accuracy_score(y_test, y_pred)\n",
        "print('Accuracy score:%.2f\\n\\n'%(Accuracy))\n",
        "conf_matrix = metrics.confusion_matrix(y_test, y_pred)\n",
        "print('The confusion matrix is:')\n",
        "print(conf_matrix,'\\n\\n')\n",
        "print('---------------------')\n",
        "result = metrics.classification_report(y_test, y_pred)\n",
        "print('Classification Report:\\n')\n",
        "print(result)"
      ],
      "metadata": {
        "colab": {
          "base_uri": "https://localhost:8080/"
        },
        "id": "RWobryqJUNZV",
        "outputId": "6340021c-0466-4a7a-d144-9c9d21d81dcc"
      },
      "execution_count": 76,
      "outputs": [
        {
          "output_type": "stream",
          "name": "stdout",
          "text": [
            "Accuracy score:0.83\n",
            "\n",
            "\n",
            "The confusion matrix is:\n",
            "[[55 11]\n",
            " [10 50]] \n",
            "\n",
            "\n",
            "---------------------\n",
            "Classification Report:\n",
            "\n",
            "              precision    recall  f1-score   support\n",
            "\n",
            "           0       0.85      0.83      0.84        66\n",
            "           1       0.82      0.83      0.83        60\n",
            "\n",
            "    accuracy                           0.83       126\n",
            "   macro avg       0.83      0.83      0.83       126\n",
            "weighted avg       0.83      0.83      0.83       126\n",
            "\n"
          ]
        }
      ]
    },
    {
      "cell_type": "code",
      "source": [
        "plt.figure(figsize=(15,8))\n",
        "zx = sns. heatmap(conf_matrix, cmap ='flare',annot_kws={\"size\": 15}, annot= True, fmt = 'd')\n",
        "plt.title('Confusion Matrix using Random Forest', fontsize= 15)\n",
        "plt.xlabel('Predicted Ouput', fontsize =15)\n",
        "plt.ylabel('Actual Output', fontsize =15)\n",
        "plt.show()"
      ],
      "metadata": {
        "colab": {
          "base_uri": "https://localhost:8080/",
          "height": 739
        },
        "id": "mHcB1pyPTkF4",
        "outputId": "294e5fdf-c7b8-4f4a-f102-cd2fbe215a50"
      },
      "execution_count": 77,
      "outputs": [
        {
          "output_type": "display_data",
          "data": {
            "text/plain": [
              "<Figure size 1500x800 with 2 Axes>"
            ],
            "image/png": "[encoded data removed]"
          },
          "metadata": {}
        }
      ]
    },
    {
      "cell_type": "code",
      "source": [],
      "metadata": {
        "id": "GKblB9uzTkDG"
      },
      "execution_count": 77,
      "outputs": []
    },
    {
      "cell_type": "code",
      "source": [
        "# GRADIENT BOOSTED DECISION TREE\n",
        "\n",
        "\n",
        "\n",
        "clf = GradientBoostingClassifier(n_estimators=100, learning_rate=0.5, max_depth=14, random_state=42)\n",
        "clf.fit(X_train, y_train)\n",
        "\n",
        "# test the classifier on the test set and print the classification report\n",
        "y_pred = clf.predict(X_test)\n",
        "print(classification_report(y_test, y_pred))"
      ],
      "metadata": {
        "colab": {
          "base_uri": "https://localhost:8080/"
        },
        "id": "Bk0YXn6N4eTp",
        "outputId": "20f9065e-bcfa-44d7-cb53-4306f40dfa4b"
      },
      "execution_count": 78,
      "outputs": [
        {
          "output_type": "stream",
          "name": "stdout",
          "text": [
            "              precision    recall  f1-score   support\n",
            "\n",
            "           0       0.74      0.76      0.75        66\n",
            "           1       0.72      0.70      0.71        60\n",
            "\n",
            "    accuracy                           0.73       126\n",
            "   macro avg       0.73      0.73      0.73       126\n",
            "weighted avg       0.73      0.73      0.73       126\n",
            "\n"
          ]
        }
      ]
    },
    {
      "cell_type": "code",
      "source": [
        "from sklearn import metrics\n",
        "Accuracy = metrics.accuracy_score(y_test, y_pred)\n",
        "print('Accuracy score:%.2f\\n\\n'%(Accuracy))\n",
        "conf_matrix = metrics.confusion_matrix(y_test, y_pred)\n",
        "print('The confusion matrix is:')\n",
        "print(conf_matrix,'\\n\\n')\n",
        "print('---------------------')\n",
        "result = metrics.classification_report(y_test, y_pred)\n",
        "print('Classification Report:\\n')\n",
        "print(result)"
      ],
      "metadata": {
        "colab": {
          "base_uri": "https://localhost:8080/"
        },
        "id": "jp-fV7eg4eQk",
        "outputId": "57581f81-28a0-4f20-8f15-cda4129772fd"
      },
      "execution_count": 79,
      "outputs": [
        {
          "output_type": "stream",
          "name": "stdout",
          "text": [
            "Accuracy score:0.73\n",
            "\n",
            "\n",
            "The confusion matrix is:\n",
            "[[50 16]\n",
            " [18 42]] \n",
            "\n",
            "\n",
            "---------------------\n",
            "Classification Report:\n",
            "\n",
            "              precision    recall  f1-score   support\n",
            "\n",
            "           0       0.74      0.76      0.75        66\n",
            "           1       0.72      0.70      0.71        60\n",
            "\n",
            "    accuracy                           0.73       126\n",
            "   macro avg       0.73      0.73      0.73       126\n",
            "weighted avg       0.73      0.73      0.73       126\n",
            "\n"
          ]
        }
      ]
    },
    {
      "cell_type": "code",
      "source": [
        "plt.figure(figsize=(20,8))\n",
        "zx = sns. heatmap(conf_matrix, cmap ='flare', annot_kws={\"size\": 18},annot= True, fmt = 'd')\n",
        "plt.title('Confusion Matrix using Gradient Boosted Decision Tree ', fontsize= 15)\n",
        "plt.xlabel('Predicted Ouput', fontsize =15)\n",
        "plt.ylabel('Actual Output', fontsize =15)\n",
        "plt.show()"
      ],
      "metadata": {
        "colab": {
          "base_uri": "https://localhost:8080/",
          "height": 739
        },
        "id": "24To1JQj4z2X",
        "outputId": "851c9eca-da7c-4a5b-dcde-6afdbe522093"
      },
      "execution_count": 80,
      "outputs": [
        {
          "output_type": "display_data",
          "data": {
            "text/plain": [
              "<Figure size 2000x800 with 2 Axes>"
            ],
            "image/png": "[encoded data removed]"
          },
          "metadata": {}
        }
      ]
    },
    {
      "cell_type": "code",
      "source": [
        "# Identifying top 10 features driving the Gradient Boosted Decision model by allowing the model to select importance features itself"
      ],
      "metadata": {
        "id": "k_g5oFAS4zx-"
      },
      "execution_count": 81,
      "outputs": []
    },
    {
      "cell_type": "code",
      "source": [
        "# split the data into training and testing sets\n",
        "X_train, X_test, y_train, y_test = train_test_split(X, y, test_size=0.3,random_state = 40)\n",
        "\n"
      ],
      "metadata": {
        "id": "YfW3XDC6s_KS"
      },
      "execution_count": 82,
      "outputs": []
    },
    {
      "cell_type": "code",
      "source": [
        "scaler = StandardScaler()\n",
        "X_train_scale = scaler.fit_transform(X_train)\n",
        "X_test_scale = scaler.transform (X_test)"
      ],
      "metadata": {
        "id": "3FpviWL9s-K_"
      },
      "execution_count": 83,
      "outputs": []
    },
    {
      "cell_type": "code",
      "source": [
        "\n",
        "# Step 4: Model Evaluation\n",
        "from sklearn.metrics import f1_score"
      ],
      "metadata": {
        "id": "uyq033DzbzFS"
      },
      "execution_count": 84,
      "outputs": []
    },
    {
      "cell_type": "code",
      "source": [
        "clf = GradientBoostingClassifier(n_estimators=100, learning_rate=0.5, max_depth=18, random_state=42)\n",
        "clf.fit(X_train, y_train)\n",
        "y_pred = clf.predict(X_test)\n",
        "score = f1_score(y_test, y_pred)\n",
        "print(f\"F1-score: {score:.4f}\")"
      ],
      "metadata": {
        "colab": {
          "base_uri": "https://localhost:8080/"
        },
        "id": "pFw3nnficEDP",
        "outputId": "7eb38b0b-710c-4872-fe09-d586cd76bd45"
      },
      "execution_count": 85,
      "outputs": [
        {
          "output_type": "stream",
          "name": "stdout",
          "text": [
            "F1-score: 0.7869\n"
          ]
        }
      ]
    },
    {
      "cell_type": "code",
      "source": [
        "from sklearn import metrics\n",
        "Accuracy = metrics.accuracy_score(y_test, y_pred)\n",
        "print('Accuracy score:%.2f\\n\\n'%(Accuracy))\n",
        "conf_matrix = metrics.confusion_matrix(y_test, y_pred)\n",
        "print('The confusion matrix is:')\n",
        "print(conf_matrix,'\\n\\n')\n",
        "print('---------------------')\n",
        "result = metrics.classification_report(y_test, y_pred)\n",
        "print('Classification Report:\\n')\n",
        "print(result)"
      ],
      "metadata": {
        "colab": {
          "base_uri": "https://localhost:8080/"
        },
        "id": "OhqnHJSYDyRU",
        "outputId": "fe95bd3a-2cb6-4060-f40a-42559d8e4ee4"
      },
      "execution_count": 86,
      "outputs": [
        {
          "output_type": "stream",
          "name": "stdout",
          "text": [
            "Accuracy score:0.79\n",
            "\n",
            "\n",
            "The confusion matrix is:\n",
            "[[52 11]\n",
            " [15 48]] \n",
            "\n",
            "\n",
            "---------------------\n",
            "Classification Report:\n",
            "\n",
            "              precision    recall  f1-score   support\n",
            "\n",
            "           0       0.78      0.83      0.80        63\n",
            "           1       0.81      0.76      0.79        63\n",
            "\n",
            "    accuracy                           0.79       126\n",
            "   macro avg       0.79      0.79      0.79       126\n",
            "weighted avg       0.79      0.79      0.79       126\n",
            "\n"
          ]
        }
      ]
    },
    {
      "cell_type": "code",
      "source": [
        "#Step 5: Feature Importance Analysis\n",
        "feature_importances = clf.feature_importances_\n",
        "feature_names = df4.drop('RESPONSE', axis=1).columns\n"
      ],
      "metadata": {
        "id": "TUJxbc3WXXV_"
      },
      "execution_count": 87,
      "outputs": []
    },
    {
      "cell_type": "code",
      "source": [
        "\n",
        "# Step 6: Plot Feature Importance Graph\n",
        "\n",
        "\n",
        "top_features = pd.Series(feature_importances, index=feature_names).sort_values(ascending=False)[:10]\n",
        "plt.figure(figsize=(27,8))\n",
        "plt.bar(top_features.index, top_features)\n",
        "plt.title('Top 5 important features of the model')\n",
        "plt.xlabel('Feature Name')\n",
        "plt.ylabel('Feature Importance')\n",
        "plt.show()"
      ],
      "metadata": {
        "colab": {
          "base_uri": "https://localhost:8080/",
          "height": 615
        },
        "id": "Y3UvrJpNYshv",
        "outputId": "1739df63-12a0-4431-f07e-7a7c9650ef2a"
      },
      "execution_count": 88,
      "outputs": [
        {
          "output_type": "display_data",
          "data": {
            "text/plain": [
              "<Figure size 2700x800 with 1 Axes>"
            ],
            "image/png": "[encoded data removed]"
          },
          "metadata": {}
        }
      ]
    },
    {
      "cell_type": "code",
      "source": [],
      "metadata": {
        "id": "0dEWA3XxYseu"
      },
      "execution_count": 88,
      "outputs": []
    },
    {
      "cell_type": "code",
      "source": [
        "plt.figure(figsize=(20,8))\n",
        "zx = sns. heatmap(conf_matrix, cmap ='flare', annot_kws={\"size\": 18},annot= True, fmt = 'd')\n",
        "plt.title('Confusion Matrix using Gradient Boosted Decision Tree ', fontsize= 15)\n",
        "plt.xlabel('Predicted Ouput', fontsize =15)\n",
        "plt.ylabel('Actual Output', fontsize =15)\n",
        "plt.show()"
      ],
      "metadata": {
        "id": "mzGqvDxnvmWy",
        "colab": {
          "base_uri": "https://localhost:8080/",
          "height": 739
        },
        "outputId": "286864e4-aeeb-4a2b-8bba-27f24ac6ebe6"
      },
      "execution_count": 89,
      "outputs": [
        {
          "output_type": "display_data",
          "data": {
            "text/plain": [
              "<Figure size 2000x800 with 2 Axes>"
            ],
            "image/png": "[encoded data removed]"
          },
          "metadata": {}
        }
      ]
    },
    {
      "cell_type": "code",
      "source": [],
      "metadata": {
        "id": "gicUbS_X4zrS"
      },
      "execution_count": 89,
      "outputs": []
    },
    {
      "cell_type": "code",
      "source": [
        "\n"
      ],
      "metadata": {
        "id": "97n8Fb4KCv9E"
      },
      "execution_count": 89,
      "outputs": []
    },
    {
      "cell_type": "code",
      "source": [],
      "metadata": {
        "id": "C6ZggAdx6JiU"
      },
      "execution_count": 89,
      "outputs": []
    }
  ]
}